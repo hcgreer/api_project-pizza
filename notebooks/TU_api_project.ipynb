{
 "cells": [
  {
   "cell_type": "markdown",
   "metadata": {},
   "source": [
    "## Analyzing Aggravated Burglaries in Davidson County"
   ]
  },
  {
   "cell_type": "markdown",
   "metadata": {},
   "source": [
    "### Part 1 - Data Gathering using APIs"
   ]
  },
  {
   "cell_type": "markdown",
   "metadata": {},
   "source": [
    "1. A dataset containing details about Metro Nashville Police Department reported incidents is available at https://data.nashville.gov/Police/Metro-Nashville-Police-Department-Incidents/2u6v-ujjs. Make use of the API to find all aggravated burglary incidents () that were reported during the nine month period from January 1, 2022 through September 30, 2022. (Hint: Check out the API Docs (https://dev.socrata.com/foundry/data.nashville.gov/2u6v-ujjs) to see how to narrow down the response to just the desired results)."
   ]
  },
  {
   "cell_type": "code",
   "execution_count": 1,
   "metadata": {},
   "outputs": [],
   "source": [
    "import requests\n",
    "import matplotlib.pyplot as plt\n",
    "import pandas as pd\n",
    "import geopandas as gpd\n",
    "import re\n",
    "import json\n",
    "from shapely.geometry import Point\n",
    "import shapely\n",
    "import numpy as np\n",
    "from scipy.stats import poisson\n",
    "from ipywidgets import interact, FloatSlider, IntSlider\n",
    "import statsmodels.api as sm\n",
    "import statsmodels.formula.api as smf\n",
    "from patsy import dmatrices"
   ]
  },
  {
   "cell_type": "markdown",
   "metadata": {},
   "source": [
    "Reading the API, I figured out I need the NIBRS code (https://ucr.fbi.gov/nibrs/2011/resources/nibrs-offense-codes).\n",
    "For burglary it is 220 and checking it on the webpage- It looks like this is what I'm looking for and the 'offense description' isn't always consistent. Will have to check which ones have 'aggravated' in there:\n",
    "https://data.nashville.gov/resource/2u6v-ujjs.json?offense_nibrs=220"
   ]
  },
  {
   "cell_type": "markdown",
   "metadata": {},
   "source": [
    "The code below just connects to the API and gets the requested type (burglary/breaking and entering)"
   ]
  },
  {
   "cell_type": "code",
   "execution_count": 2,
   "metadata": {},
   "outputs": [
    {
     "data": {
      "text/plain": [
       "<Response [200]>"
      ]
     },
     "execution_count": 2,
     "metadata": {},
     "output_type": "execute_result"
    }
   ],
   "source": [
    "endpoint = 'https://data.nashville.gov/resource/2u6v-ujjs.json'\n",
    "\n",
    "params = {\n",
    "    '$where' : \"incident_reported between '2022-01-01T00:00:00' and '2022-09-30T23:59:59'\",\n",
    "    'offense_nibrs' : 220,\n",
    "    '$limit' : 5000\n",
    "}\n",
    "\n",
    "# you can also do a '$q' : 'BURGLARY- AGGRAVATED'\n",
    "\n",
    "response = requests.get(endpoint, params = params)\n",
    "response\n"
   ]
  },
  {
   "cell_type": "code",
   "execution_count": 3,
   "metadata": {},
   "outputs": [
    {
     "data": {
      "text/plain": [
       "'https://data.nashville.gov/resource/2u6v-ujjs.json?%24where=incident_reported+between+%272022-01-01T00%3A00%3A00%27+and+%272022-09-30T23%3A59%3A59%27&offense_nibrs=220&%24limit=5000'"
      ]
     },
     "execution_count": 3,
     "metadata": {},
     "output_type": "execute_result"
    }
   ],
   "source": [
    "# to check the constracted url with the params\n",
    "response.url"
   ]
  },
  {
   "cell_type": "code",
   "execution_count": 4,
   "metadata": {},
   "outputs": [
    {
     "data": {
      "text/plain": [
       "3532"
      ]
     },
     "execution_count": 4,
     "metadata": {},
     "output_type": "execute_result"
    }
   ],
   "source": [
    "len(response.json())"
   ]
  },
  {
   "cell_type": "code",
   "execution_count": 5,
   "metadata": {},
   "outputs": [],
   "source": [
    "incidents_df = pd.DataFrame(response.json())"
   ]
  },
  {
   "cell_type": "code",
   "execution_count": 6,
   "metadata": {},
   "outputs": [],
   "source": [
    "# I used this before I figured out how to do it with regex\n",
    "# incidents_df[incidents_df['offense_description'].str.upper().str.find('AGGRAVATED') != -1]"
   ]
  },
  {
   "cell_type": "markdown",
   "metadata": {},
   "source": [
    "the below code is to get all the burglaries that contain at least agg (shorthand for AGGRAVATED). Comparing it to the output with my previous code I found out that the word AGGRAVATED was never actually abbreviated in the file"
   ]
  },
  {
   "cell_type": "code",
   "execution_count": 7,
   "metadata": {},
   "outputs": [],
   "source": [
    "incidents_df = incidents_df[incidents_df['offense_description'].str.match(r'.+[aA][gG][gG].+') == True]"
   ]
  },
  {
   "cell_type": "code",
   "execution_count": 8,
   "metadata": {},
   "outputs": [
    {
     "data": {
      "text/plain": [
       "array(['BURGLARY- AGGRAVATED', 'BURGLARY - AGGRAVATED',\n",
       "       'Burglary - Aggravated - Acting in Concert',\n",
       "       'BURGLARY - ESPECIALLY AGGRAVATED',\n",
       "       'BURGLARY - AGGRAVATED - ACTING IN CONCERT'], dtype=object)"
      ]
     },
     "execution_count": 8,
     "metadata": {},
     "output_type": "execute_result"
    }
   ],
   "source": [
    "incidents_df['offense_description'].unique()"
   ]
  },
  {
   "cell_type": "markdown",
   "metadata": {},
   "source": [
    "2. Using the 2020 American Community Survey API (https://www.census.gov/data/developers/data-sets/acs-5year.html), obtain, for each census tract, the population (B01001_001E in the detailed tables) and the median income (S1901_C01_012E in the subject tables). Hint: Tennessee's FIPS code is 47 and Davidson County's FIPS code is 37."
   ]
  },
  {
   "cell_type": "markdown",
   "metadata": {},
   "source": [
    "First off, loading my key for the census data API!"
   ]
  },
  {
   "cell_type": "code",
   "execution_count": 9,
   "metadata": {},
   "outputs": [],
   "source": [
    "with open('../keys.json') as fi:\n",
    "    credentials = json.load(fi)"
   ]
  },
  {
   "cell_type": "code",
   "execution_count": 10,
   "metadata": {},
   "outputs": [],
   "source": [
    "api_key = credentials['api_key']"
   ]
  },
  {
   "cell_type": "markdown",
   "metadata": {},
   "source": [
    "> note: the documentation for how to construct the API request (for detailed tables) is found here: https://api.census.gov/data/2020/acs/acs5/examples.html"
   ]
  },
  {
   "cell_type": "code",
   "execution_count": 11,
   "metadata": {},
   "outputs": [
    {
     "data": {
      "text/plain": [
       "<Response [200]>"
      ]
     },
     "execution_count": 11,
     "metadata": {},
     "output_type": "execute_result"
    }
   ],
   "source": [
    "endpoint = f'https://api.census.gov/data/2020/acs/acs5?get=NAME,B01001_001E&for=tract:*&in=state:47&in=county:037&key={api_key}'\n",
    "\n",
    "\n",
    "response = requests.get(endpoint)\n",
    "response"
   ]
  },
  {
   "cell_type": "code",
   "execution_count": 12,
   "metadata": {},
   "outputs": [],
   "source": [
    "pop_df = pd.DataFrame(response.json())"
   ]
  },
  {
   "cell_type": "code",
   "execution_count": 13,
   "metadata": {},
   "outputs": [],
   "source": [
    "pop_df = (\n",
    "    pop_df\n",
    "    .rename(columns=pop_df.iloc[0])\n",
    "    .drop(pop_df.index[0])\n",
    "    .rename(columns={'B01001_001E':'population'})\n",
    ")"
   ]
  },
  {
   "cell_type": "markdown",
   "metadata": {},
   "source": [
    "Similar but different, Subject Tables now. "
   ]
  },
  {
   "cell_type": "code",
   "execution_count": 14,
   "metadata": {},
   "outputs": [
    {
     "data": {
      "text/plain": [
       "<Response [200]>"
      ]
     },
     "execution_count": 14,
     "metadata": {},
     "output_type": "execute_result"
    }
   ],
   "source": [
    "endpoint = f'https://api.census.gov/data/2020/acs/acs5/subject?get=NAME,S1901_C01_012E&for=tract:*&in=state:47&in=county:037&key={api_key}'\n",
    "\n",
    "\n",
    "response = requests.get(endpoint)\n",
    "response"
   ]
  },
  {
   "cell_type": "code",
   "execution_count": 15,
   "metadata": {},
   "outputs": [],
   "source": [
    "med_income_df = pd.DataFrame(response.json())"
   ]
  },
  {
   "cell_type": "code",
   "execution_count": 16,
   "metadata": {},
   "outputs": [],
   "source": [
    "med_income_df = (\n",
    "    med_income_df\n",
    "    .rename(columns=med_income_df.iloc[0])\n",
    "    .drop(med_income_df.index[0])\n",
    "    .rename(columns={'S1901_C01_012E':'median_income'})\n",
    ")"
   ]
  },
  {
   "cell_type": "markdown",
   "metadata": {},
   "source": [
    "Did a .head() and .count() command to make sure both tables have the same length (as they should, 174); after the merge below the number was the same (as it of course should)."
   ]
  },
  {
   "cell_type": "code",
   "execution_count": 17,
   "metadata": {},
   "outputs": [],
   "source": [
    "pop_med_income_df = pd.merge(pop_df, med_income_df, \"inner\", on=['NAME', 'state', 'county', 'tract'])"
   ]
  },
  {
   "cell_type": "markdown",
   "metadata": {},
   "source": [
    "### Part 2 - Spatial Joining and Data Merging"
   ]
  },
  {
   "cell_type": "markdown",
   "metadata": {},
   "source": [
    "3. Download the 2020 census tract shapefiles for Tennessee from https://www.census.gov/geographies/mapping-files/time-series/geo/tiger-line-file.2020.html. (The FIPS code for Tennessee is 47). Perform a spatial join to determine the census tract in which each burglary incident occurred."
   ]
  },
  {
   "cell_type": "code",
   "execution_count": 18,
   "metadata": {},
   "outputs": [],
   "source": [
    "tract_geo = gpd.read_file('../data/tl_2020_47_tract/tl_2020_47_tract.shp')"
   ]
  },
  {
   "cell_type": "code",
   "execution_count": 19,
   "metadata": {},
   "outputs": [
    {
     "data": {
      "text/html": [
       "<div>\n",
       "<style scoped>\n",
       "    .dataframe tbody tr th:only-of-type {\n",
       "        vertical-align: middle;\n",
       "    }\n",
       "\n",
       "    .dataframe tbody tr th {\n",
       "        vertical-align: top;\n",
       "    }\n",
       "\n",
       "    .dataframe thead th {\n",
       "        text-align: right;\n",
       "    }\n",
       "</style>\n",
       "<table border=\"1\" class=\"dataframe\">\n",
       "  <thead>\n",
       "    <tr style=\"text-align: right;\">\n",
       "      <th></th>\n",
       "      <th>STATEFP</th>\n",
       "      <th>COUNTYFP</th>\n",
       "      <th>TRACTCE</th>\n",
       "      <th>GEOID</th>\n",
       "      <th>NAME</th>\n",
       "      <th>NAMELSAD</th>\n",
       "      <th>MTFCC</th>\n",
       "      <th>FUNCSTAT</th>\n",
       "      <th>ALAND</th>\n",
       "      <th>AWATER</th>\n",
       "      <th>INTPTLAT</th>\n",
       "      <th>INTPTLON</th>\n",
       "      <th>geometry</th>\n",
       "    </tr>\n",
       "  </thead>\n",
       "  <tbody>\n",
       "    <tr>\n",
       "      <th>0</th>\n",
       "      <td>47</td>\n",
       "      <td>175</td>\n",
       "      <td>925200</td>\n",
       "      <td>47175925200</td>\n",
       "      <td>9252</td>\n",
       "      <td>Census Tract 9252</td>\n",
       "      <td>G5020</td>\n",
       "      <td>S</td>\n",
       "      <td>227429512</td>\n",
       "      <td>1667739</td>\n",
       "      <td>+35.7438100</td>\n",
       "      <td>-085.4940227</td>\n",
       "      <td>POLYGON ((-85.61516 35.76106, -85.61509 35.761...</td>\n",
       "    </tr>\n",
       "    <tr>\n",
       "      <th>1</th>\n",
       "      <td>47</td>\n",
       "      <td>175</td>\n",
       "      <td>925000</td>\n",
       "      <td>47175925000</td>\n",
       "      <td>9250</td>\n",
       "      <td>Census Tract 9250</td>\n",
       "      <td>G5020</td>\n",
       "      <td>S</td>\n",
       "      <td>480712883</td>\n",
       "      <td>1225717</td>\n",
       "      <td>+35.6695378</td>\n",
       "      <td>-085.4220628</td>\n",
       "      <td>POLYGON ((-85.60513 35.70854, -85.60511 35.708...</td>\n",
       "    </tr>\n",
       "  </tbody>\n",
       "</table>\n",
       "</div>"
      ],
      "text/plain": [
       "  STATEFP COUNTYFP TRACTCE        GEOID  NAME           NAMELSAD  MTFCC  \\\n",
       "0      47      175  925200  47175925200  9252  Census Tract 9252  G5020   \n",
       "1      47      175  925000  47175925000  9250  Census Tract 9250  G5020   \n",
       "\n",
       "  FUNCSTAT      ALAND   AWATER     INTPTLAT      INTPTLON  \\\n",
       "0        S  227429512  1667739  +35.7438100  -085.4940227   \n",
       "1        S  480712883  1225717  +35.6695378  -085.4220628   \n",
       "\n",
       "                                            geometry  \n",
       "0  POLYGON ((-85.61516 35.76106, -85.61509 35.761...  \n",
       "1  POLYGON ((-85.60513 35.70854, -85.60511 35.708...  "
      ]
     },
     "execution_count": 19,
     "metadata": {},
     "output_type": "execute_result"
    }
   ],
   "source": [
    "tract_geo.head(2)"
   ]
  },
  {
   "cell_type": "code",
   "execution_count": 20,
   "metadata": {},
   "outputs": [
    {
     "data": {
      "text/plain": [
       "Index(['primary_key', 'incident_number', 'report_type',\n",
       "       'report_type_description', 'incident_status_code',\n",
       "       'incident_status_description', 'investigation_status',\n",
       "       'incident_occurred', 'incident_reported', 'incident_location',\n",
       "       'latitude', 'longitude', 'location_code', 'location_description',\n",
       "       'offense_number', 'offense_nibrs', 'offense_description',\n",
       "       'weapon_primary', 'weapon_description', 'victim_number',\n",
       "       'domestic_related', 'victim_type', 'victim_description',\n",
       "       'victim_gender', 'victim_race', 'victim_ethnicity',\n",
       "       'victim_county_resident', 'mapped_location', 'rpa', 'zone', 'zip_code'],\n",
       "      dtype='object')"
      ]
     },
     "execution_count": 20,
     "metadata": {},
     "output_type": "execute_result"
    }
   ],
   "source": [
    "# incidents_df.info\n",
    "incidents_df.columns"
   ]
  },
  {
   "cell_type": "markdown",
   "metadata": {},
   "source": [
    "Note: at first I tried to use the 'mapped_location' to turn it into a point. However, both doing a list comprehension like this:\n",
    "> x['coordinates'] for x in incidents_df['mapped_location'])\n",
    "\n",
    "or, expanding the dictionary first with \n",
    "> incidents_df.mapped_location.apply(pd.Series)['coordinates']\n",
    "\n",
    "and then trying to unpack the remaining list with a lambda-function\n",
    "> incidents_df['lnglat'].apply(lambda x: x[0])\n",
    "\n",
    "none of it was working. The error was 'float' is not subsciptible. Michael helped me figure out that some rows had NaNs, which is what caused that error. So, the code commented below works."
   ]
  },
  {
   "cell_type": "code",
   "execution_count": 21,
   "metadata": {},
   "outputs": [],
   "source": [
    "# working code, have to do an if statement to skip nans\n",
    "# incidents_df['lat'] = (\n",
    "#     [x['coordinates'][0] \n",
    "#      if x is not np.nan \n",
    "#      else None \n",
    "#      for x in incidents_df['mapped_location']]    \n",
    "#)"
   ]
  },
  {
   "cell_type": "code",
   "execution_count": 22,
   "metadata": {},
   "outputs": [],
   "source": [
    "# note: we decided it was easier to drop duplicate incidents BEFORE doing the spatial merge\n",
    "incidents_df = incidents_df.drop_duplicates(subset='incident_number')"
   ]
  },
  {
   "cell_type": "code",
   "execution_count": 23,
   "metadata": {},
   "outputs": [],
   "source": [
    "incidents_df['geometry'] = gpd.points_from_xy(\n",
    "    incidents_df['longitude'], incidents_df['latitude'])"
   ]
  },
  {
   "cell_type": "code",
   "execution_count": 24,
   "metadata": {},
   "outputs": [],
   "source": [
    "incidents_geo = gpd.GeoDataFrame(incidents_df, crs = tract_geo.crs, geometry = incidents_df['geometry'])"
   ]
  },
  {
   "cell_type": "code",
   "execution_count": 25,
   "metadata": {},
   "outputs": [],
   "source": [
    "# has to be a right join so that we keep all tracts even with no burglaries within\n",
    "incidents_by_tract = gpd.sjoin(incidents_geo, tract_geo, how='right', predicate = 'within')"
   ]
  },
  {
   "cell_type": "code",
   "execution_count": 26,
   "metadata": {},
   "outputs": [
    {
     "name": "stdout",
     "output_type": "stream",
     "text": [
      "<class 'geopandas.geodataframe.GeoDataFrame'>\n",
      "Int64Index: 2794 entries, 0 to 1700\n",
      "Data columns (total 45 columns):\n",
      " #   Column                       Non-Null Count  Dtype   \n",
      "---  ------                       --------------  -----   \n",
      " 0   index_left                   1258 non-null   float64 \n",
      " 1   primary_key                  1258 non-null   object  \n",
      " 2   incident_number              1258 non-null   object  \n",
      " 3   report_type                  1258 non-null   object  \n",
      " 4   report_type_description      1247 non-null   object  \n",
      " 5   incident_status_code         1258 non-null   object  \n",
      " 6   incident_status_description  1258 non-null   object  \n",
      " 7   investigation_status         1258 non-null   object  \n",
      " 8   incident_occurred            1258 non-null   object  \n",
      " 9   incident_reported            1258 non-null   object  \n",
      " 10  incident_location            1252 non-null   object  \n",
      " 11  latitude                     1258 non-null   object  \n",
      " 12  longitude                    1258 non-null   object  \n",
      " 13  location_code                1258 non-null   object  \n",
      " 14  location_description         1258 non-null   object  \n",
      " 15  offense_number               1258 non-null   object  \n",
      " 16  offense_nibrs                1258 non-null   object  \n",
      " 17  offense_description          1258 non-null   object  \n",
      " 18  weapon_primary               1250 non-null   object  \n",
      " 19  weapon_description           1250 non-null   object  \n",
      " 20  victim_number                1258 non-null   object  \n",
      " 21  domestic_related             1258 non-null   object  \n",
      " 22  victim_type                  1258 non-null   object  \n",
      " 23  victim_description           1258 non-null   object  \n",
      " 24  victim_gender                1200 non-null   object  \n",
      " 25  victim_race                  1200 non-null   object  \n",
      " 26  victim_ethnicity             1200 non-null   object  \n",
      " 27  victim_county_resident       1200 non-null   object  \n",
      " 28  mapped_location              1258 non-null   object  \n",
      " 29  rpa                          290 non-null    object  \n",
      " 30  zone                         290 non-null    object  \n",
      " 31  zip_code                     181 non-null    object  \n",
      " 32  STATEFP                      2794 non-null   object  \n",
      " 33  COUNTYFP                     2794 non-null   object  \n",
      " 34  TRACTCE                      2794 non-null   object  \n",
      " 35  GEOID                        2794 non-null   object  \n",
      " 36  NAME                         2794 non-null   object  \n",
      " 37  NAMELSAD                     2794 non-null   object  \n",
      " 38  MTFCC                        2794 non-null   object  \n",
      " 39  FUNCSTAT                     2794 non-null   object  \n",
      " 40  ALAND                        2794 non-null   int64   \n",
      " 41  AWATER                       2794 non-null   int64   \n",
      " 42  INTPTLAT                     2794 non-null   object  \n",
      " 43  INTPTLON                     2794 non-null   object  \n",
      " 44  geometry                     2794 non-null   geometry\n",
      "dtypes: float64(1), geometry(1), int64(2), object(41)\n",
      "memory usage: 1004.1+ KB\n"
     ]
    }
   ],
   "source": [
    "incidents_by_tract.info()"
   ]
  },
  {
   "cell_type": "markdown",
   "metadata": {},
   "source": [
    "4. Aggregate the data by census tract. Warning: each incident can appear multiple times if there are multiple victims, so be sure that you aren't double-counting any incidents. Which census tract had the highest number of burglaries? Which census tract had the highest number of burglaries per 1000 residents? Note: Make sure that you keep all census tracts, not just those that have had a burglary.\n",
    "\n",
    "> highest number of burglaries -> tract # 143; to answer the other question, see point 5. as we need to get the population in"
   ]
  },
  {
   "cell_type": "code",
   "execution_count": 31,
   "metadata": {},
   "outputs": [],
   "source": [
    "# to get rid of duplicate incidents\n",
    "incidents_by_tract = incidents_by_tract.drop_duplicates(subset='incident_number')"
   ]
  },
  {
   "cell_type": "code",
   "execution_count": 65,
   "metadata": {},
   "outputs": [
    {
     "data": {
      "text/plain": [
       "TRACTCE\n",
       "014300    41\n",
       "016300    37\n",
       "016000    30\n",
       "014200    27\n",
       "019003    22\n",
       "Name: incident_number, dtype: int64"
      ]
     },
     "execution_count": 65,
     "metadata": {},
     "output_type": "execute_result"
    }
   ],
   "source": [
    "incidents_by_tract.groupby('TRACTCE')['incident_number'].count().nlargest(5)"
   ]
  },
  {
   "cell_type": "code",
   "execution_count": 64,
   "metadata": {},
   "outputs": [
    {
     "data": {
      "text/plain": [
       "NAMELSAD\n",
       "Census Tract 143       41\n",
       "Census Tract 163       37\n",
       "Census Tract 160       30\n",
       "Census Tract 142       27\n",
       "Census Tract 190.03    22\n",
       "Name: incident_number, dtype: int64"
      ]
     },
     "execution_count": 64,
     "metadata": {},
     "output_type": "execute_result"
    }
   ],
   "source": [
    "# better way to see it than above\n",
    "incidents_by_tract.groupby('NAMELSAD')['incident_number'].count().nlargest(5)"
   ]
  },
  {
   "cell_type": "code",
   "execution_count": 34,
   "metadata": {},
   "outputs": [
    {
     "data": {
      "text/plain": [
       "Index(['index_left', 'primary_key', 'incident_number', 'report_type',\n",
       "       'report_type_description', 'incident_status_code',\n",
       "       'incident_status_description', 'investigation_status',\n",
       "       'incident_occurred', 'incident_reported', 'incident_location',\n",
       "       'latitude', 'longitude', 'location_code', 'location_description',\n",
       "       'offense_number', 'offense_nibrs', 'offense_description',\n",
       "       'weapon_primary', 'weapon_description', 'victim_number',\n",
       "       'domestic_related', 'victim_type', 'victim_description',\n",
       "       'victim_gender', 'victim_race', 'victim_ethnicity',\n",
       "       'victim_county_resident', 'mapped_location', 'rpa', 'zone', 'zip_code',\n",
       "       'STATEFP', 'COUNTYFP', 'TRACTCE', 'GEOID', 'NAME', 'NAMELSAD', 'MTFCC',\n",
       "       'FUNCSTAT', 'ALAND', 'AWATER', 'INTPTLAT', 'INTPTLON', 'geometry'],\n",
       "      dtype='object')"
      ]
     },
     "execution_count": 34,
     "metadata": {},
     "output_type": "execute_result"
    }
   ],
   "source": [
    "incidents_by_tract.columns"
   ]
  },
  {
   "cell_type": "code",
   "execution_count": 35,
   "metadata": {},
   "outputs": [
    {
     "data": {
      "text/plain": [
       "Index(['NAME', 'population', 'state', 'county', 'tract', 'median_income'], dtype='object')"
      ]
     },
     "execution_count": 35,
     "metadata": {},
     "output_type": "execute_result"
    }
   ],
   "source": [
    "pop_med_income_df.columns"
   ]
  },
  {
   "cell_type": "code",
   "execution_count": 36,
   "metadata": {},
   "outputs": [],
   "source": [
    "incidents_by_tract_stats = pd.merge(\n",
    "    pop_med_income_df, incidents_by_tract,\n",
    "    how='inner', left_on='tract', right_on='TRACTCE'\n",
    ")"
   ]
  },
  {
   "cell_type": "markdown",
   "metadata": {},
   "source": [
    "5. Merge in the census data that you gathered in question 2. Remove any rows that have zero population or negative median income values."
   ]
  },
  {
   "cell_type": "code",
   "execution_count": 37,
   "metadata": {},
   "outputs": [],
   "source": [
    "# code below to get rid of zero population and negative med values\n",
    "incidents_by_tract_stats = incidents_by_tract_stats[(incidents_by_tract_stats['population']).astype(int) > 0] \n",
    "incidents_by_tract_stats = incidents_by_tract_stats[(incidents_by_tract_stats['median_income']).astype(float) >= 0]"
   ]
  },
  {
   "cell_type": "code",
   "execution_count": 38,
   "metadata": {},
   "outputs": [],
   "source": [
    "# new column to have number of incidents per each tract\n",
    "incidents_by_tract_stats['n_incidents_tract'] = incidents_by_tract_stats.groupby('TRACTCE')['incident_number'].transform('count').to_frame()"
   ]
  },
  {
   "cell_type": "code",
   "execution_count": 39,
   "metadata": {},
   "outputs": [],
   "source": [
    "# new column to have number of incidents per population\n",
    "incidents_by_tract_stats['n_incidents_tract_pop'] = incidents_by_tract_stats['n_incidents_tract']/(incidents_by_tract_stats['population']).astype(float)"
   ]
  },
  {
   "cell_type": "code",
   "execution_count": 40,
   "metadata": {},
   "outputs": [
    {
     "data": {
      "text/html": [
       "<div>\n",
       "<style scoped>\n",
       "    .dataframe tbody tr th:only-of-type {\n",
       "        vertical-align: middle;\n",
       "    }\n",
       "\n",
       "    .dataframe tbody tr th {\n",
       "        vertical-align: top;\n",
       "    }\n",
       "\n",
       "    .dataframe thead th {\n",
       "        text-align: right;\n",
       "    }\n",
       "</style>\n",
       "<table border=\"1\" class=\"dataframe\">\n",
       "  <thead>\n",
       "    <tr style=\"text-align: right;\">\n",
       "      <th></th>\n",
       "      <th>NAME_x</th>\n",
       "      <th>population</th>\n",
       "      <th>state</th>\n",
       "      <th>county</th>\n",
       "      <th>tract</th>\n",
       "      <th>median_income</th>\n",
       "      <th>index_left</th>\n",
       "      <th>primary_key</th>\n",
       "      <th>incident_number</th>\n",
       "      <th>report_type</th>\n",
       "      <th>...</th>\n",
       "      <th>NAMELSAD</th>\n",
       "      <th>MTFCC</th>\n",
       "      <th>FUNCSTAT</th>\n",
       "      <th>ALAND</th>\n",
       "      <th>AWATER</th>\n",
       "      <th>INTPTLAT</th>\n",
       "      <th>INTPTLON</th>\n",
       "      <th>geometry</th>\n",
       "      <th>n_incidents_tract</th>\n",
       "      <th>n_incidents_tract_pop</th>\n",
       "    </tr>\n",
       "  </thead>\n",
       "  <tbody>\n",
       "    <tr>\n",
       "      <th>629</th>\n",
       "      <td>Census Tract 143, Davidson County, Tennessee</td>\n",
       "      <td>1617</td>\n",
       "      <td>47</td>\n",
       "      <td>037</td>\n",
       "      <td>014300</td>\n",
       "      <td>40425</td>\n",
       "      <td>2004.0</td>\n",
       "      <td>20220078262_23</td>\n",
       "      <td>20220078262</td>\n",
       "      <td>D</td>\n",
       "      <td>...</td>\n",
       "      <td>Census Tract 143</td>\n",
       "      <td>G5020</td>\n",
       "      <td>S</td>\n",
       "      <td>1253575</td>\n",
       "      <td>0</td>\n",
       "      <td>+36.1611635</td>\n",
       "      <td>-086.8156898</td>\n",
       "      <td>POLYGON ((-86.82255 36.15333, -86.82255 36.154...</td>\n",
       "      <td>41</td>\n",
       "      <td>0.025356</td>\n",
       "    </tr>\n",
       "    <tr>\n",
       "      <th>643</th>\n",
       "      <td>Census Tract 143, Davidson County, Tennessee</td>\n",
       "      <td>1617</td>\n",
       "      <td>47</td>\n",
       "      <td>037</td>\n",
       "      <td>014300</td>\n",
       "      <td>40425</td>\n",
       "      <td>2081.0</td>\n",
       "      <td>20220082577_11</td>\n",
       "      <td>20220082577</td>\n",
       "      <td>D</td>\n",
       "      <td>...</td>\n",
       "      <td>Census Tract 143</td>\n",
       "      <td>G5020</td>\n",
       "      <td>S</td>\n",
       "      <td>1253575</td>\n",
       "      <td>0</td>\n",
       "      <td>+36.1611635</td>\n",
       "      <td>-086.8156898</td>\n",
       "      <td>POLYGON ((-86.82255 36.15333, -86.82255 36.154...</td>\n",
       "      <td>41</td>\n",
       "      <td>0.025356</td>\n",
       "    </tr>\n",
       "    <tr>\n",
       "      <th>623</th>\n",
       "      <td>Census Tract 143, Davidson County, Tennessee</td>\n",
       "      <td>1617</td>\n",
       "      <td>47</td>\n",
       "      <td>037</td>\n",
       "      <td>014300</td>\n",
       "      <td>40425</td>\n",
       "      <td>566.0</td>\n",
       "      <td>20220287522_11</td>\n",
       "      <td>20220287522</td>\n",
       "      <td>D</td>\n",
       "      <td>...</td>\n",
       "      <td>Census Tract 143</td>\n",
       "      <td>G5020</td>\n",
       "      <td>S</td>\n",
       "      <td>1253575</td>\n",
       "      <td>0</td>\n",
       "      <td>+36.1611635</td>\n",
       "      <td>-086.8156898</td>\n",
       "      <td>POLYGON ((-86.82255 36.15333, -86.82255 36.154...</td>\n",
       "      <td>41</td>\n",
       "      <td>0.025356</td>\n",
       "    </tr>\n",
       "    <tr>\n",
       "      <th>624</th>\n",
       "      <td>Census Tract 143, Davidson County, Tennessee</td>\n",
       "      <td>1617</td>\n",
       "      <td>47</td>\n",
       "      <td>037</td>\n",
       "      <td>014300</td>\n",
       "      <td>40425</td>\n",
       "      <td>1807.0</td>\n",
       "      <td>20220341304_11</td>\n",
       "      <td>20220341304</td>\n",
       "      <td>D</td>\n",
       "      <td>...</td>\n",
       "      <td>Census Tract 143</td>\n",
       "      <td>G5020</td>\n",
       "      <td>S</td>\n",
       "      <td>1253575</td>\n",
       "      <td>0</td>\n",
       "      <td>+36.1611635</td>\n",
       "      <td>-086.8156898</td>\n",
       "      <td>POLYGON ((-86.82255 36.15333, -86.82255 36.154...</td>\n",
       "      <td>41</td>\n",
       "      <td>0.025356</td>\n",
       "    </tr>\n",
       "    <tr>\n",
       "      <th>625</th>\n",
       "      <td>Census Tract 143, Davidson County, Tennessee</td>\n",
       "      <td>1617</td>\n",
       "      <td>47</td>\n",
       "      <td>037</td>\n",
       "      <td>014300</td>\n",
       "      <td>40425</td>\n",
       "      <td>3329.0</td>\n",
       "      <td>20220481471_11</td>\n",
       "      <td>20220481471</td>\n",
       "      <td>D</td>\n",
       "      <td>...</td>\n",
       "      <td>Census Tract 143</td>\n",
       "      <td>G5020</td>\n",
       "      <td>S</td>\n",
       "      <td>1253575</td>\n",
       "      <td>0</td>\n",
       "      <td>+36.1611635</td>\n",
       "      <td>-086.8156898</td>\n",
       "      <td>POLYGON ((-86.82255 36.15333, -86.82255 36.154...</td>\n",
       "      <td>41</td>\n",
       "      <td>0.025356</td>\n",
       "    </tr>\n",
       "    <tr>\n",
       "      <th>...</th>\n",
       "      <td>...</td>\n",
       "      <td>...</td>\n",
       "      <td>...</td>\n",
       "      <td>...</td>\n",
       "      <td>...</td>\n",
       "      <td>...</td>\n",
       "      <td>...</td>\n",
       "      <td>...</td>\n",
       "      <td>...</td>\n",
       "      <td>...</td>\n",
       "      <td>...</td>\n",
       "      <td>...</td>\n",
       "      <td>...</td>\n",
       "      <td>...</td>\n",
       "      <td>...</td>\n",
       "      <td>...</td>\n",
       "      <td>...</td>\n",
       "      <td>...</td>\n",
       "      <td>...</td>\n",
       "      <td>...</td>\n",
       "      <td>...</td>\n",
       "    </tr>\n",
       "    <tr>\n",
       "      <th>839</th>\n",
       "      <td>Census Tract 156.33, Davidson County, Tennessee</td>\n",
       "      <td>4704</td>\n",
       "      <td>47</td>\n",
       "      <td>037</td>\n",
       "      <td>015633</td>\n",
       "      <td>108883</td>\n",
       "      <td>2021.0</td>\n",
       "      <td>20220305187_11</td>\n",
       "      <td>20220305187</td>\n",
       "      <td>D</td>\n",
       "      <td>...</td>\n",
       "      <td>Census Tract 156.33</td>\n",
       "      <td>G5020</td>\n",
       "      <td>S</td>\n",
       "      <td>13138415</td>\n",
       "      <td>4907139</td>\n",
       "      <td>+36.1451761</td>\n",
       "      <td>-086.5766361</td>\n",
       "      <td>POLYGON ((-86.61354 36.14412, -86.59675 36.156...</td>\n",
       "      <td>1</td>\n",
       "      <td>0.000213</td>\n",
       "    </tr>\n",
       "    <tr>\n",
       "      <th>392</th>\n",
       "      <td>Census Tract 116, Davidson County, Tennessee</td>\n",
       "      <td>5158</td>\n",
       "      <td>47</td>\n",
       "      <td>037</td>\n",
       "      <td>011600</td>\n",
       "      <td>78520</td>\n",
       "      <td>568.0</td>\n",
       "      <td>20220270509_11</td>\n",
       "      <td>20220270509</td>\n",
       "      <td>S</td>\n",
       "      <td>...</td>\n",
       "      <td>Census Tract 116</td>\n",
       "      <td>G5020</td>\n",
       "      <td>S</td>\n",
       "      <td>8132311</td>\n",
       "      <td>329831</td>\n",
       "      <td>+36.1834916</td>\n",
       "      <td>-086.7119394</td>\n",
       "      <td>POLYGON ((-86.72758 36.18825, -86.72737 36.188...</td>\n",
       "      <td>1</td>\n",
       "      <td>0.000194</td>\n",
       "    </tr>\n",
       "    <tr>\n",
       "      <th>1203</th>\n",
       "      <td>Census Tract 188.01, Davidson County, Tennessee</td>\n",
       "      <td>5501</td>\n",
       "      <td>47</td>\n",
       "      <td>037</td>\n",
       "      <td>018801</td>\n",
       "      <td>96942</td>\n",
       "      <td>1633.0</td>\n",
       "      <td>20220293433_12</td>\n",
       "      <td>20220293433</td>\n",
       "      <td>D</td>\n",
       "      <td>...</td>\n",
       "      <td>Census Tract 188.01</td>\n",
       "      <td>G5020</td>\n",
       "      <td>S</td>\n",
       "      <td>8463283</td>\n",
       "      <td>0</td>\n",
       "      <td>+36.0609910</td>\n",
       "      <td>-086.7571310</td>\n",
       "      <td>POLYGON ((-86.77516 36.05341, -86.77516 36.053...</td>\n",
       "      <td>1</td>\n",
       "      <td>0.000182</td>\n",
       "    </tr>\n",
       "    <tr>\n",
       "      <th>1106</th>\n",
       "      <td>Census Tract 178, Davidson County, Tennessee</td>\n",
       "      <td>5929</td>\n",
       "      <td>47</td>\n",
       "      <td>037</td>\n",
       "      <td>017800</td>\n",
       "      <td>96098</td>\n",
       "      <td>472.0</td>\n",
       "      <td>20220060620_11</td>\n",
       "      <td>20220060620</td>\n",
       "      <td>D</td>\n",
       "      <td>...</td>\n",
       "      <td>Census Tract 178</td>\n",
       "      <td>G5020</td>\n",
       "      <td>S</td>\n",
       "      <td>4106211</td>\n",
       "      <td>0</td>\n",
       "      <td>+36.1121384</td>\n",
       "      <td>-086.7923247</td>\n",
       "      <td>POLYGON ((-86.81208 36.10881, -86.81193 36.109...</td>\n",
       "      <td>1</td>\n",
       "      <td>0.000169</td>\n",
       "    </tr>\n",
       "    <tr>\n",
       "      <th>26</th>\n",
       "      <td>Census Tract 190.08, Davidson County, Tennessee</td>\n",
       "      <td>6005</td>\n",
       "      <td>47</td>\n",
       "      <td>037</td>\n",
       "      <td>019008</td>\n",
       "      <td>50512</td>\n",
       "      <td>2028.0</td>\n",
       "      <td>20220349671_11</td>\n",
       "      <td>20220349671</td>\n",
       "      <td>D</td>\n",
       "      <td>...</td>\n",
       "      <td>Census Tract 190.08</td>\n",
       "      <td>G5020</td>\n",
       "      <td>S</td>\n",
       "      <td>2154206</td>\n",
       "      <td>0</td>\n",
       "      <td>+36.0896576</td>\n",
       "      <td>-086.7112379</td>\n",
       "      <td>POLYGON ((-86.72018 36.08932, -86.72007 36.089...</td>\n",
       "      <td>1</td>\n",
       "      <td>0.000167</td>\n",
       "    </tr>\n",
       "  </tbody>\n",
       "</table>\n",
       "<p>1257 rows × 53 columns</p>\n",
       "</div>"
      ],
      "text/plain": [
       "                                               NAME_x population state county  \\\n",
       "629      Census Tract 143, Davidson County, Tennessee       1617    47    037   \n",
       "643      Census Tract 143, Davidson County, Tennessee       1617    47    037   \n",
       "623      Census Tract 143, Davidson County, Tennessee       1617    47    037   \n",
       "624      Census Tract 143, Davidson County, Tennessee       1617    47    037   \n",
       "625      Census Tract 143, Davidson County, Tennessee       1617    47    037   \n",
       "...                                               ...        ...   ...    ...   \n",
       "839   Census Tract 156.33, Davidson County, Tennessee       4704    47    037   \n",
       "392      Census Tract 116, Davidson County, Tennessee       5158    47    037   \n",
       "1203  Census Tract 188.01, Davidson County, Tennessee       5501    47    037   \n",
       "1106     Census Tract 178, Davidson County, Tennessee       5929    47    037   \n",
       "26    Census Tract 190.08, Davidson County, Tennessee       6005    47    037   \n",
       "\n",
       "       tract median_income  index_left     primary_key incident_number  \\\n",
       "629   014300         40425      2004.0  20220078262_23     20220078262   \n",
       "643   014300         40425      2081.0  20220082577_11     20220082577   \n",
       "623   014300         40425       566.0  20220287522_11     20220287522   \n",
       "624   014300         40425      1807.0  20220341304_11     20220341304   \n",
       "625   014300         40425      3329.0  20220481471_11     20220481471   \n",
       "...      ...           ...         ...             ...             ...   \n",
       "839   015633        108883      2021.0  20220305187_11     20220305187   \n",
       "392   011600         78520       568.0  20220270509_11     20220270509   \n",
       "1203  018801         96942      1633.0  20220293433_12     20220293433   \n",
       "1106  017800         96098       472.0  20220060620_11     20220060620   \n",
       "26    019008         50512      2028.0  20220349671_11     20220349671   \n",
       "\n",
       "     report_type  ...             NAMELSAD  MTFCC FUNCSTAT     ALAND   AWATER  \\\n",
       "629            D  ...     Census Tract 143  G5020        S   1253575        0   \n",
       "643            D  ...     Census Tract 143  G5020        S   1253575        0   \n",
       "623            D  ...     Census Tract 143  G5020        S   1253575        0   \n",
       "624            D  ...     Census Tract 143  G5020        S   1253575        0   \n",
       "625            D  ...     Census Tract 143  G5020        S   1253575        0   \n",
       "...          ...  ...                  ...    ...      ...       ...      ...   \n",
       "839            D  ...  Census Tract 156.33  G5020        S  13138415  4907139   \n",
       "392            S  ...     Census Tract 116  G5020        S   8132311   329831   \n",
       "1203           D  ...  Census Tract 188.01  G5020        S   8463283        0   \n",
       "1106           D  ...     Census Tract 178  G5020        S   4106211        0   \n",
       "26             D  ...  Census Tract 190.08  G5020        S   2154206        0   \n",
       "\n",
       "         INTPTLAT      INTPTLON  \\\n",
       "629   +36.1611635  -086.8156898   \n",
       "643   +36.1611635  -086.8156898   \n",
       "623   +36.1611635  -086.8156898   \n",
       "624   +36.1611635  -086.8156898   \n",
       "625   +36.1611635  -086.8156898   \n",
       "...           ...           ...   \n",
       "839   +36.1451761  -086.5766361   \n",
       "392   +36.1834916  -086.7119394   \n",
       "1203  +36.0609910  -086.7571310   \n",
       "1106  +36.1121384  -086.7923247   \n",
       "26    +36.0896576  -086.7112379   \n",
       "\n",
       "                                               geometry n_incidents_tract  \\\n",
       "629   POLYGON ((-86.82255 36.15333, -86.82255 36.154...                41   \n",
       "643   POLYGON ((-86.82255 36.15333, -86.82255 36.154...                41   \n",
       "623   POLYGON ((-86.82255 36.15333, -86.82255 36.154...                41   \n",
       "624   POLYGON ((-86.82255 36.15333, -86.82255 36.154...                41   \n",
       "625   POLYGON ((-86.82255 36.15333, -86.82255 36.154...                41   \n",
       "...                                                 ...               ...   \n",
       "839   POLYGON ((-86.61354 36.14412, -86.59675 36.156...                 1   \n",
       "392   POLYGON ((-86.72758 36.18825, -86.72737 36.188...                 1   \n",
       "1203  POLYGON ((-86.77516 36.05341, -86.77516 36.053...                 1   \n",
       "1106  POLYGON ((-86.81208 36.10881, -86.81193 36.109...                 1   \n",
       "26    POLYGON ((-86.72018 36.08932, -86.72007 36.089...                 1   \n",
       "\n",
       "     n_incidents_tract_pop  \n",
       "629               0.025356  \n",
       "643               0.025356  \n",
       "623               0.025356  \n",
       "624               0.025356  \n",
       "625               0.025356  \n",
       "...                    ...  \n",
       "839               0.000213  \n",
       "392               0.000194  \n",
       "1203              0.000182  \n",
       "1106              0.000169  \n",
       "26                0.000167  \n",
       "\n",
       "[1257 rows x 53 columns]"
      ]
     },
     "execution_count": 40,
     "metadata": {},
     "output_type": "execute_result"
    }
   ],
   "source": [
    "incidents_by_tract_stats.sort_values('n_incidents_tract_pop', ascending=False)"
   ]
  },
  {
   "cell_type": "markdown",
   "metadata": {},
   "source": [
    "> same answer as before, the tract with most burglaries per population is 143, the second and third change"
   ]
  },
  {
   "cell_type": "markdown",
   "metadata": {},
   "source": [
    "### Part 3 - Statistical Modeling"
   ]
  },
  {
   "cell_type": "markdown",
   "metadata": {},
   "source": [
    "6. Finally, we'll build some statistical models to see how well we can explain the number of aggravated burglaries using the median income of each census tract. Start with some EDA to look at the relationship between median income and number of aggravated burglaries.\n",
    "\n",
    "> note: as observed by Monica, we don't really need the incident number; and sice this part is just for the statistical modeling, I'll condense the table with just the needed information in the code below."
   ]
  },
  {
   "cell_type": "code",
   "execution_count": 41,
   "metadata": {},
   "outputs": [],
   "source": [
    "tract_aggr_burglary = (\n",
    "    incidents_by_tract_stats\n",
    "    .groupby(['TRACTCE', 'population', 'median_income'])\n",
    "    ['incident_number']\n",
    "    .count()\n",
    "    .to_frame()\n",
    "    .reset_index()\n",
    ")"
   ]
  },
  {
   "cell_type": "code",
   "execution_count": 42,
   "metadata": {},
   "outputs": [],
   "source": [
    "tract_aggr_burglary[['median_income', 'population']] = tract_aggr_burglary[['median_income', 'population']].astype(float)\n",
    "tract_aggr_burglary['burglary_per_1kpop'] = tract_aggr_burglary['incident_number'] * 1000 /tract_aggr_burglary['population']"
   ]
  },
  {
   "cell_type": "code",
   "execution_count": 43,
   "metadata": {},
   "outputs": [
    {
     "data": {
      "image/png": "[encoded data removed]",
      "text/plain": [
       "<Figure size 1000x600 with 1 Axes>"
      ]
     },
     "metadata": {},
     "output_type": "display_data"
    }
   ],
   "source": [
    "tract_aggr_burglary.plot(\n",
    "    kind='scatter',\n",
    "    x='median_income',\n",
    "    y='incident_number',\n",
    "    figsize = (10,6));"
   ]
  },
  {
   "cell_type": "markdown",
   "metadata": {},
   "source": [
    "There appears to be a downward trend. I.e. with higher median income, there appears to be less aggravated burglaries."
   ]
  },
  {
   "cell_type": "code",
   "execution_count": 44,
   "metadata": {},
   "outputs": [
    {
     "data": {
      "text/html": [
       "<div>\n",
       "<style scoped>\n",
       "    .dataframe tbody tr th:only-of-type {\n",
       "        vertical-align: middle;\n",
       "    }\n",
       "\n",
       "    .dataframe tbody tr th {\n",
       "        vertical-align: top;\n",
       "    }\n",
       "\n",
       "    .dataframe thead th {\n",
       "        text-align: right;\n",
       "    }\n",
       "</style>\n",
       "<table border=\"1\" class=\"dataframe\">\n",
       "  <thead>\n",
       "    <tr style=\"text-align: right;\">\n",
       "      <th></th>\n",
       "      <th>group</th>\n",
       "      <th>median_income</th>\n",
       "      <th>incident_number</th>\n",
       "      <th>burglary_per_1kpop</th>\n",
       "    </tr>\n",
       "  </thead>\n",
       "  <tbody>\n",
       "    <tr>\n",
       "      <th>0</th>\n",
       "      <td>(13749.999, 38459.7]</td>\n",
       "      <td>28729.058824</td>\n",
       "      <td>11.882353</td>\n",
       "      <td>4.043676</td>\n",
       "    </tr>\n",
       "    <tr>\n",
       "      <th>1</th>\n",
       "      <td>(38459.7, 46346.4]</td>\n",
       "      <td>43134.312500</td>\n",
       "      <td>13.625000</td>\n",
       "      <td>4.527355</td>\n",
       "    </tr>\n",
       "    <tr>\n",
       "      <th>2</th>\n",
       "      <td>(46346.4, 50846.8]</td>\n",
       "      <td>48095.500000</td>\n",
       "      <td>6.000000</td>\n",
       "      <td>1.385436</td>\n",
       "    </tr>\n",
       "    <tr>\n",
       "      <th>3</th>\n",
       "      <td>(50846.8, 55007.2]</td>\n",
       "      <td>52958.882353</td>\n",
       "      <td>11.352941</td>\n",
       "      <td>3.225753</td>\n",
       "    </tr>\n",
       "    <tr>\n",
       "      <th>4</th>\n",
       "      <td>(55007.2, 60072.0]</td>\n",
       "      <td>57575.875000</td>\n",
       "      <td>8.500000</td>\n",
       "      <td>2.467688</td>\n",
       "    </tr>\n",
       "    <tr>\n",
       "      <th>5</th>\n",
       "      <td>(60072.0, 65255.6]</td>\n",
       "      <td>62190.125000</td>\n",
       "      <td>6.312500</td>\n",
       "      <td>1.717109</td>\n",
       "    </tr>\n",
       "    <tr>\n",
       "      <th>6</th>\n",
       "      <td>(65255.6, 74506.6]</td>\n",
       "      <td>70221.000000</td>\n",
       "      <td>5.647059</td>\n",
       "      <td>1.646089</td>\n",
       "    </tr>\n",
       "    <tr>\n",
       "      <th>7</th>\n",
       "      <td>(74506.6, 85018.2]</td>\n",
       "      <td>79269.937500</td>\n",
       "      <td>5.437500</td>\n",
       "      <td>1.147417</td>\n",
       "    </tr>\n",
       "    <tr>\n",
       "      <th>8</th>\n",
       "      <td>(85018.2, 103952.6]</td>\n",
       "      <td>93935.875000</td>\n",
       "      <td>5.000000</td>\n",
       "      <td>1.177264</td>\n",
       "    </tr>\n",
       "    <tr>\n",
       "      <th>9</th>\n",
       "      <td>(103952.6, 199643.0]</td>\n",
       "      <td>132863.529412</td>\n",
       "      <td>2.823529</td>\n",
       "      <td>0.759494</td>\n",
       "    </tr>\n",
       "  </tbody>\n",
       "</table>\n",
       "</div>"
      ],
      "text/plain": [
       "                  group  median_income  incident_number  burglary_per_1kpop\n",
       "0  (13749.999, 38459.7]   28729.058824        11.882353            4.043676\n",
       "1    (38459.7, 46346.4]   43134.312500        13.625000            4.527355\n",
       "2    (46346.4, 50846.8]   48095.500000         6.000000            1.385436\n",
       "3    (50846.8, 55007.2]   52958.882353        11.352941            3.225753\n",
       "4    (55007.2, 60072.0]   57575.875000         8.500000            2.467688\n",
       "5    (60072.0, 65255.6]   62190.125000         6.312500            1.717109\n",
       "6    (65255.6, 74506.6]   70221.000000         5.647059            1.646089\n",
       "7    (74506.6, 85018.2]   79269.937500         5.437500            1.147417\n",
       "8   (85018.2, 103952.6]   93935.875000         5.000000            1.177264\n",
       "9  (103952.6, 199643.0]  132863.529412         2.823529            0.759494"
      ]
     },
     "execution_count": 44,
     "metadata": {},
     "output_type": "execute_result"
    }
   ],
   "source": [
    "ta_summary = (\n",
    "    tract_aggr_burglary\n",
    "    .assign(group = pd.qcut(tract_aggr_burglary['median_income'],\n",
    "                            q = 10,\n",
    "                           duplicates = 'drop'))\n",
    "    .groupby('group')\n",
    "    [['median_income', 'incident_number', 'burglary_per_1kpop']]\n",
    "    .mean()\n",
    "    .reset_index()\n",
    ")\n",
    "\n",
    "ta_summary"
   ]
  },
  {
   "cell_type": "markdown",
   "metadata": {},
   "source": [
    "Similar trends observed as described above"
   ]
  },
  {
   "cell_type": "markdown",
   "metadata": {},
   "source": [
    "7. Fit a Poisson regression model with target variable the rate of burglaries per census tract and with predictor the median income. Offset using the log of the population so that we are looking at the rate of burglaries per population instead of the number of burglaries. How can you interpret the meaning of the output?"
   ]
  },
  {
   "cell_type": "code",
   "execution_count": 45,
   "metadata": {},
   "outputs": [
    {
     "data": {
      "text/html": [
       "<table class=\"simpletable\">\n",
       "<caption>Generalized Linear Model Regression Results</caption>\n",
       "<tr>\n",
       "  <th>Dep. Variable:</th>    <td>incident_number</td> <th>  No. Observations:  </th>  <td>   164</td> \n",
       "</tr>\n",
       "<tr>\n",
       "  <th>Model:</th>                  <td>GLM</td>       <th>  Df Residuals:      </th>  <td>   162</td> \n",
       "</tr>\n",
       "<tr>\n",
       "  <th>Model Family:</th>         <td>Poisson</td>     <th>  Df Model:          </th>  <td>     1</td> \n",
       "</tr>\n",
       "<tr>\n",
       "  <th>Link Function:</th>          <td>Log</td>       <th>  Scale:             </th> <td>  1.0000</td>\n",
       "</tr>\n",
       "<tr>\n",
       "  <th>Method:</th>                <td>IRLS</td>       <th>  Log-Likelihood:    </th> <td> -663.57</td>\n",
       "</tr>\n",
       "<tr>\n",
       "  <th>Date:</th>            <td>Thu, 10 Nov 2022</td> <th>  Deviance:          </th> <td>  737.70</td>\n",
       "</tr>\n",
       "<tr>\n",
       "  <th>Time:</th>                <td>21:07:30</td>     <th>  Pearson chi2:      </th> <td>1.15e+03</td>\n",
       "</tr>\n",
       "<tr>\n",
       "  <th>No. Iterations:</th>          <td>5</td>        <th>  Pseudo R-squ. (CS):</th>  <td>0.7265</td> \n",
       "</tr>\n",
       "<tr>\n",
       "  <th>Covariance Type:</th>     <td>nonrobust</td>    <th>                     </th>     <td> </td>   \n",
       "</tr>\n",
       "</table>\n",
       "<table class=\"simpletable\">\n",
       "<tr>\n",
       "             <td></td>                <th>coef</th>     <th>std err</th>      <th>z</th>      <th>P>|z|</th>  <th>[0.025</th>    <th>0.975]</th>  \n",
       "</tr>\n",
       "<tr>\n",
       "  <th>Intercept</th>               <td>    1.7372</td> <td>    0.081</td> <td>   21.345</td> <td> 0.000</td> <td>    1.578</td> <td>    1.897</td>\n",
       "</tr>\n",
       "<tr>\n",
       "  <th>I(median_income / 1000)</th> <td>   -0.0179</td> <td>    0.001</td> <td>  -13.315</td> <td> 0.000</td> <td>   -0.021</td> <td>   -0.015</td>\n",
       "</tr>\n",
       "</table>"
      ],
      "text/plain": [
       "<class 'statsmodels.iolib.summary.Summary'>\n",
       "\"\"\"\n",
       "                 Generalized Linear Model Regression Results                  \n",
       "==============================================================================\n",
       "Dep. Variable:        incident_number   No. Observations:                  164\n",
       "Model:                            GLM   Df Residuals:                      162\n",
       "Model Family:                 Poisson   Df Model:                            1\n",
       "Link Function:                    Log   Scale:                          1.0000\n",
       "Method:                          IRLS   Log-Likelihood:                -663.57\n",
       "Date:                Thu, 10 Nov 2022   Deviance:                       737.70\n",
       "Time:                        21:07:30   Pearson chi2:                 1.15e+03\n",
       "No. Iterations:                     5   Pseudo R-squ. (CS):             0.7265\n",
       "Covariance Type:            nonrobust                                         \n",
       "===========================================================================================\n",
       "                              coef    std err          z      P>|z|      [0.025      0.975]\n",
       "-------------------------------------------------------------------------------------------\n",
       "Intercept                   1.7372      0.081     21.345      0.000       1.578       1.897\n",
       "I(median_income / 1000)    -0.0179      0.001    -13.315      0.000      -0.021      -0.015\n",
       "===========================================================================================\n",
       "\"\"\""
      ]
     },
     "execution_count": 45,
     "metadata": {},
     "output_type": "execute_result"
    }
   ],
   "source": [
    "pr_burglary = smf.glm('incident_number ~ I(median_income/1000)',\n",
    "                 data = tract_aggr_burglary,\n",
    "                 offset = np.log(tract_aggr_burglary['population']/1000),\n",
    "                 family = sm.families.Poisson()\n",
    "                 ).fit()\n",
    "\n",
    "pr_burglary.summary()"
   ]
  },
  {
   "cell_type": "markdown",
   "metadata": {},
   "source": [
    "After offsetting for population, and deciding to divide the median income by 1000 (otherwise the factor of changing by a single $ is miniscule) the model estimates that:\n",
    "\n",
    "$$\\text{average number of burglaries} = e^{-5.1513 -0.0187(\\text{median income in thousands of UDS)}}$$\n",
    "\n",
    "In other words, for each $1000 change in median income, the average number of burglaries is predicted to decrease by exp(-0.0187), aka a factor of 0.98147"
   ]
  },
  {
   "cell_type": "code",
   "execution_count": 46,
   "metadata": {},
   "outputs": [
    {
     "data": {
      "text/html": [
       "<div>\n",
       "<style scoped>\n",
       "    .dataframe tbody tr th:only-of-type {\n",
       "        vertical-align: middle;\n",
       "    }\n",
       "\n",
       "    .dataframe tbody tr th {\n",
       "        vertical-align: top;\n",
       "    }\n",
       "\n",
       "    .dataframe thead th {\n",
       "        text-align: right;\n",
       "    }\n",
       "</style>\n",
       "<table border=\"1\" class=\"dataframe\">\n",
       "  <thead>\n",
       "    <tr style=\"text-align: right;\">\n",
       "      <th></th>\n",
       "      <th>group</th>\n",
       "      <th>median_income</th>\n",
       "      <th>incident_number</th>\n",
       "      <th>burglary_per_1kpop</th>\n",
       "      <th>fitted</th>\n",
       "    </tr>\n",
       "  </thead>\n",
       "  <tbody>\n",
       "    <tr>\n",
       "      <th>0</th>\n",
       "      <td>(13749.999, 38459.7]</td>\n",
       "      <td>28729.058824</td>\n",
       "      <td>11.882353</td>\n",
       "      <td>4.043676</td>\n",
       "      <td>3.398180</td>\n",
       "    </tr>\n",
       "    <tr>\n",
       "      <th>1</th>\n",
       "      <td>(38459.7, 46346.4]</td>\n",
       "      <td>43134.312500</td>\n",
       "      <td>13.625000</td>\n",
       "      <td>4.527355</td>\n",
       "      <td>2.626234</td>\n",
       "    </tr>\n",
       "    <tr>\n",
       "      <th>2</th>\n",
       "      <td>(46346.4, 50846.8]</td>\n",
       "      <td>48095.500000</td>\n",
       "      <td>6.000000</td>\n",
       "      <td>1.385436</td>\n",
       "      <td>2.403204</td>\n",
       "    </tr>\n",
       "    <tr>\n",
       "      <th>3</th>\n",
       "      <td>(50846.8, 55007.2]</td>\n",
       "      <td>52958.882353</td>\n",
       "      <td>11.352941</td>\n",
       "      <td>3.225753</td>\n",
       "      <td>2.202964</td>\n",
       "    </tr>\n",
       "    <tr>\n",
       "      <th>4</th>\n",
       "      <td>(55007.2, 60072.0]</td>\n",
       "      <td>57575.875000</td>\n",
       "      <td>8.500000</td>\n",
       "      <td>2.467688</td>\n",
       "      <td>2.028330</td>\n",
       "    </tr>\n",
       "    <tr>\n",
       "      <th>5</th>\n",
       "      <td>(60072.0, 65255.6]</td>\n",
       "      <td>62190.125000</td>\n",
       "      <td>6.312500</td>\n",
       "      <td>1.717109</td>\n",
       "      <td>1.867631</td>\n",
       "    </tr>\n",
       "    <tr>\n",
       "      <th>6</th>\n",
       "      <td>(65255.6, 74506.6]</td>\n",
       "      <td>70221.000000</td>\n",
       "      <td>5.647059</td>\n",
       "      <td>1.646089</td>\n",
       "      <td>1.617707</td>\n",
       "    </tr>\n",
       "    <tr>\n",
       "      <th>7</th>\n",
       "      <td>(74506.6, 85018.2]</td>\n",
       "      <td>79269.937500</td>\n",
       "      <td>5.437500</td>\n",
       "      <td>1.147417</td>\n",
       "      <td>1.375941</td>\n",
       "    </tr>\n",
       "    <tr>\n",
       "      <th>8</th>\n",
       "      <td>(85018.2, 103952.6]</td>\n",
       "      <td>93935.875000</td>\n",
       "      <td>5.000000</td>\n",
       "      <td>1.177264</td>\n",
       "      <td>1.058429</td>\n",
       "    </tr>\n",
       "    <tr>\n",
       "      <th>9</th>\n",
       "      <td>(103952.6, 199643.0]</td>\n",
       "      <td>132863.529412</td>\n",
       "      <td>2.823529</td>\n",
       "      <td>0.759494</td>\n",
       "      <td>0.527518</td>\n",
       "    </tr>\n",
       "  </tbody>\n",
       "</table>\n",
       "</div>"
      ],
      "text/plain": [
       "                  group  median_income  incident_number  burglary_per_1kpop  \\\n",
       "0  (13749.999, 38459.7]   28729.058824        11.882353            4.043676   \n",
       "1    (38459.7, 46346.4]   43134.312500        13.625000            4.527355   \n",
       "2    (46346.4, 50846.8]   48095.500000         6.000000            1.385436   \n",
       "3    (50846.8, 55007.2]   52958.882353        11.352941            3.225753   \n",
       "4    (55007.2, 60072.0]   57575.875000         8.500000            2.467688   \n",
       "5    (60072.0, 65255.6]   62190.125000         6.312500            1.717109   \n",
       "6    (65255.6, 74506.6]   70221.000000         5.647059            1.646089   \n",
       "7    (74506.6, 85018.2]   79269.937500         5.437500            1.147417   \n",
       "8   (85018.2, 103952.6]   93935.875000         5.000000            1.177264   \n",
       "9  (103952.6, 199643.0]  132863.529412         2.823529            0.759494   \n",
       "\n",
       "     fitted  \n",
       "0  3.398180  \n",
       "1  2.626234  \n",
       "2  2.403204  \n",
       "3  2.202964  \n",
       "4  2.028330  \n",
       "5  1.867631  \n",
       "6  1.617707  \n",
       "7  1.375941  \n",
       "8  1.058429  \n",
       "9  0.527518  "
      ]
     },
     "execution_count": 46,
     "metadata": {},
     "output_type": "execute_result"
    }
   ],
   "source": [
    "# using the summary from before (the one with quantiles) to check how good the fit does\n",
    "ta_summary['fitted'] = pr_burglary.predict(ta_summary)\n",
    "\n",
    "ta_summary"
   ]
  },
  {
   "cell_type": "markdown",
   "metadata": {},
   "source": [
    "**note**: the fitted quantity has to be compared with burglary per capita (also same for the graph below). That is because we **offset** for population in our fit!!!"
   ]
  },
  {
   "cell_type": "code",
   "execution_count": 47,
   "metadata": {},
   "outputs": [
    {
     "data": {
      "image/png": "[encoded data removed]",
      "text/plain": [
       "<Figure size 1000x600 with 1 Axes>"
      ]
     },
     "metadata": {},
     "output_type": "display_data"
    }
   ],
   "source": [
    "fit_df = pd.DataFrame({\n",
    "    'median_income': np.linspace(start = tract_aggr_burglary['median_income'].min(),\n",
    "                      stop = tract_aggr_burglary['median_income'].max(),\n",
    "                      num = 150)\n",
    "})\n",
    "fit_df['fitted'] = pr_burglary.predict(fit_df)\n",
    "\n",
    "ax = tract_aggr_burglary.plot(x = 'median_income', y = 'burglary_per_1kpop', kind = 'scatter', figsize = (10,6))\n",
    "fit_df.plot(x = 'median_income', y = 'fitted', color = 'black', ax = ax);"
   ]
  },
  {
   "cell_type": "markdown",
   "metadata": {},
   "source": [
    "After checking the probabilities in the graph below, I decided to adjust the parameters and have the probabilities be estimated per 1000 people (otherwise the graph is far too squished towards 0)."
   ]
  },
  {
   "cell_type": "code",
   "execution_count": 48,
   "metadata": {},
   "outputs": [
    {
     "data": {
      "application/vnd.jupyter.widget-view+json": {
       "model_id": "267b5ec263ef4f4f99f14cb1893d6e37",
       "version_major": 2,
       "version_minor": 0
      },
      "text/plain": [
       "interactive(children=(IntSlider(value=100000, description='median_income', max=199643, min=13750), Output()), …"
      ]
     },
     "metadata": {},
     "output_type": "display_data"
    }
   ],
   "source": [
    "@interact(median_income = IntSlider(value = 100000, min = tract_aggr_burglary['median_income'].min(), max = tract_aggr_burglary['median_income'].max()))\n",
    "def fit_plot(median_income):\n",
    "    \n",
    "    mu = np.exp(pr_burglary.params['Intercept'] + \\\n",
    "                (median_income/1000) * pr_burglary.params['I(median_income / 1000)'])\n",
    "    x = np.arange(start = 0, stop = 20, step = 1)\n",
    "    y = poisson.pmf(x, mu = mu)\n",
    "\n",
    "    plt.figure(figsize = (10,5))\n",
    "    plt.bar(x, y, edgecolor = 'black')\n",
    "    plt.xticks(x)\n",
    "    plt.xlabel('Number of Burglaries per 1000 people')\n",
    "    plt.ylabel('Probability')\n",
    "    plt.title(f'Estimated Distribution of Number of Burglaries per 1000 people\\nmedian_income = {median_income} \\n$\\mu$={round(mu, 3)}');"
   ]
  },
  {
   "cell_type": "markdown",
   "metadata": {},
   "source": [
    "8. Bonus: Try out a negative binomial model. To get started with a negative binomial model, you can check out this tutorial (https://timeseriesreasoning.com/contents/negative-binomial-regression-model/). How does this model compare to the Poisson model?"
   ]
  },
  {
   "cell_type": "code",
   "execution_count": 49,
   "metadata": {},
   "outputs": [
    {
     "name": "stdout",
     "output_type": "stream",
     "text": [
      "Training data set length=124\n",
      "Testing data set length=40\n"
     ]
    }
   ],
   "source": [
    "# randomly split the data in 80% for training, 20% for test\n",
    "mask = np.random.rand(len(tract_aggr_burglary)) < 0.8\n",
    "df_train = tract_aggr_burglary[mask]\n",
    "df_test = tract_aggr_burglary[~mask]\n",
    "print('Training data set length='+str(len(df_train)))\n",
    "print('Testing data set length='+str(len(df_test)))"
   ]
  },
  {
   "cell_type": "code",
   "execution_count": 50,
   "metadata": {},
   "outputs": [],
   "source": [
    "# slm expression, not sure how to incorporate the offset\n",
    "expr = '''incident_number ~ I(median_income/1000)'''"
   ]
  },
  {
   "cell_type": "code",
   "execution_count": 51,
   "metadata": {},
   "outputs": [],
   "source": [
    "# set up matrices for training dataset\n",
    "y_train, X_train = dmatrices(expr, df_train, return_type='dataframe')\n",
    "y_test, X_test = dmatrices(expr, df_test, return_type='dataframe')"
   ]
  },
  {
   "cell_type": "code",
   "execution_count": 52,
   "metadata": {},
   "outputs": [],
   "source": [
    "# train poisson on train dataset\n",
    "poisson_training_results = sm.GLM(y_train, X_train, family=sm.families.Poisson()).fit()"
   ]
  },
  {
   "cell_type": "code",
   "execution_count": 53,
   "metadata": {},
   "outputs": [
    {
     "data": {
      "text/html": [
       "<table class=\"simpletable\">\n",
       "<caption>Generalized Linear Model Regression Results</caption>\n",
       "<tr>\n",
       "  <th>Dep. Variable:</th>    <td>incident_number</td> <th>  No. Observations:  </th>  <td>   124</td> \n",
       "</tr>\n",
       "<tr>\n",
       "  <th>Model:</th>                  <td>GLM</td>       <th>  Df Residuals:      </th>  <td>   122</td> \n",
       "</tr>\n",
       "<tr>\n",
       "  <th>Model Family:</th>         <td>Poisson</td>     <th>  Df Model:          </th>  <td>     1</td> \n",
       "</tr>\n",
       "<tr>\n",
       "  <th>Link Function:</th>          <td>Log</td>       <th>  Scale:             </th> <td>  1.0000</td>\n",
       "</tr>\n",
       "<tr>\n",
       "  <th>Method:</th>                <td>IRLS</td>       <th>  Log-Likelihood:    </th> <td> -430.89</td>\n",
       "</tr>\n",
       "<tr>\n",
       "  <th>Date:</th>            <td>Thu, 10 Nov 2022</td> <th>  Deviance:          </th> <td>  402.16</td>\n",
       "</tr>\n",
       "<tr>\n",
       "  <th>Time:</th>                <td>21:07:30</td>     <th>  Pearson chi2:      </th>  <td>  484.</td> \n",
       "</tr>\n",
       "<tr>\n",
       "  <th>No. Iterations:</th>          <td>5</td>        <th>  Pseudo R-squ. (CS):</th>  <td>0.6886</td> \n",
       "</tr>\n",
       "<tr>\n",
       "  <th>Covariance Type:</th>     <td>nonrobust</td>    <th>                     </th>     <td> </td>   \n",
       "</tr>\n",
       "</table>\n",
       "<table class=\"simpletable\">\n",
       "<tr>\n",
       "             <td></td>                <th>coef</th>     <th>std err</th>      <th>z</th>      <th>P>|z|</th>  <th>[0.025</th>    <th>0.975]</th>  \n",
       "</tr>\n",
       "<tr>\n",
       "  <th>Intercept</th>               <td>    3.0154</td> <td>    0.084</td> <td>   36.067</td> <td> 0.000</td> <td>    2.852</td> <td>    3.179</td>\n",
       "</tr>\n",
       "<tr>\n",
       "  <th>I(median_income / 1000)</th> <td>   -0.0154</td> <td>    0.001</td> <td>  -10.763</td> <td> 0.000</td> <td>   -0.018</td> <td>   -0.013</td>\n",
       "</tr>\n",
       "</table>"
      ],
      "text/plain": [
       "<class 'statsmodels.iolib.summary.Summary'>\n",
       "\"\"\"\n",
       "                 Generalized Linear Model Regression Results                  \n",
       "==============================================================================\n",
       "Dep. Variable:        incident_number   No. Observations:                  124\n",
       "Model:                            GLM   Df Residuals:                      122\n",
       "Model Family:                 Poisson   Df Model:                            1\n",
       "Link Function:                    Log   Scale:                          1.0000\n",
       "Method:                          IRLS   Log-Likelihood:                -430.89\n",
       "Date:                Thu, 10 Nov 2022   Deviance:                       402.16\n",
       "Time:                        21:07:30   Pearson chi2:                     484.\n",
       "No. Iterations:                     5   Pseudo R-squ. (CS):             0.6886\n",
       "Covariance Type:            nonrobust                                         \n",
       "===========================================================================================\n",
       "                              coef    std err          z      P>|z|      [0.025      0.975]\n",
       "-------------------------------------------------------------------------------------------\n",
       "Intercept                   3.0154      0.084     36.067      0.000       2.852       3.179\n",
       "I(median_income / 1000)    -0.0154      0.001    -10.763      0.000      -0.018      -0.013\n",
       "===========================================================================================\n",
       "\"\"\""
      ]
     },
     "execution_count": 53,
     "metadata": {},
     "output_type": "execute_result"
    }
   ],
   "source": [
    "poisson_training_results.summary()"
   ]
  },
  {
   "cell_type": "code",
   "execution_count": 54,
   "metadata": {},
   "outputs": [],
   "source": [
    "# this is the rate vector obtained from fitting\n",
    "# poisson_training_results.mu\n",
    "# len(poisson_training_results.mu)"
   ]
  },
  {
   "cell_type": "code",
   "execution_count": 55,
   "metadata": {},
   "outputs": [
    {
     "name": "stderr",
     "output_type": "stream",
     "text": [
      "/var/folders/3t/x8rz35tn765cm0bkf_n4ydlh0000gn/T/ipykernel_39001/201252471.py:2: SettingWithCopyWarning: \n",
      "A value is trying to be set on a copy of a slice from a DataFrame.\n",
      "Try using .loc[row_indexer,col_indexer] = value instead\n",
      "\n",
      "See the caveats in the documentation: https://pandas.pydata.org/pandas-docs/stable/user_guide/indexing.html#returning-a-view-versus-a-copy\n",
      "  df_train['incident_lambda'] = poisson_training_results.mu\n"
     ]
    }
   ],
   "source": [
    "# get the lambda values of the fit\n",
    "df_train['incident_lambda'] = poisson_training_results.mu"
   ]
  },
  {
   "cell_type": "code",
   "execution_count": 56,
   "metadata": {},
   "outputs": [
    {
     "name": "stderr",
     "output_type": "stream",
     "text": [
      "/var/folders/3t/x8rz35tn765cm0bkf_n4ydlh0000gn/T/ipykernel_39001/1621990215.py:2: SettingWithCopyWarning: \n",
      "A value is trying to be set on a copy of a slice from a DataFrame.\n",
      "Try using .loc[row_indexer,col_indexer] = value instead\n",
      "\n",
      "See the caveats in the documentation: https://pandas.pydata.org/pandas-docs/stable/user_guide/indexing.html#returning-a-view-versus-a-copy\n",
      "  df_train['aux_ols_dep'] = (\n"
     ]
    }
   ],
   "source": [
    "# dependant variable of the OLS regression\n",
    "df_train['aux_ols_dep'] = (\n",
    "    df_train\n",
    "    .apply(lambda x: ((x['incident_number'] - x['incident_lambda'])**2\n",
    "                      - x['incident_lambda']) / x['incident_lambda'], axis=1)\n",
    ")"
   ]
  },
  {
   "cell_type": "code",
   "execution_count": 57,
   "metadata": {},
   "outputs": [],
   "source": [
    "# using patsy to form model specification\n",
    "ols_expr = '''aux_ols_dep ~ incident_lambda - 1'''\n",
    "\n",
    "#configure OSLR model\n",
    "aux_olsr_results = smf.ols(ols_expr, df_train).fit()"
   ]
  },
  {
   "cell_type": "code",
   "execution_count": 58,
   "metadata": {},
   "outputs": [
    {
     "data": {
      "text/plain": [
       "incident_lambda    0.352603\n",
       "dtype: float64"
      ]
     },
     "execution_count": 58,
     "metadata": {},
     "output_type": "execute_result"
    }
   ],
   "source": [
    "# this is the alpha that we were seeking (because the default is 1)\n",
    "# and we wanted to get a better estimate for negative binomial\n",
    "aux_olsr_results.params"
   ]
  },
  {
   "cell_type": "code",
   "execution_count": 59,
   "metadata": {},
   "outputs": [
    {
     "data": {
      "text/plain": [
       "incident_lambda    3.034741\n",
       "dtype: float64"
      ]
     },
     "execution_count": 59,
     "metadata": {},
     "output_type": "execute_result"
    }
   ],
   "source": [
    "# this would be to check if the value of lamda is statistically significant\n",
    "# with a t-value calculator\n",
    "aux_olsr_results.tvalues"
   ]
  },
  {
   "cell_type": "code",
   "execution_count": 60,
   "metadata": {},
   "outputs": [],
   "source": [
    "# use the value of alpha calculated before (default is 1) on the neg binomial\n",
    "nb2_training_results = (\n",
    "    sm.GLM(y_train,\n",
    "           X_train,\n",
    "           family=sm.families.NegativeBinomial(alpha=aux_olsr_results.params[0])).fit()\n",
    ")"
   ]
  },
  {
   "cell_type": "code",
   "execution_count": 61,
   "metadata": {},
   "outputs": [
    {
     "data": {
      "text/html": [
       "<table class=\"simpletable\">\n",
       "<caption>Generalized Linear Model Regression Results</caption>\n",
       "<tr>\n",
       "  <th>Dep. Variable:</th>    <td>incident_number</td> <th>  No. Observations:  </th>  <td>   124</td> \n",
       "</tr>\n",
       "<tr>\n",
       "  <th>Model:</th>                  <td>GLM</td>       <th>  Df Residuals:      </th>  <td>   122</td> \n",
       "</tr>\n",
       "<tr>\n",
       "  <th>Model Family:</th>    <td>NegativeBinomial</td> <th>  Df Model:          </th>  <td>     1</td> \n",
       "</tr>\n",
       "<tr>\n",
       "  <th>Link Function:</th>          <td>Log</td>       <th>  Scale:             </th> <td>  1.0000</td>\n",
       "</tr>\n",
       "<tr>\n",
       "  <th>Method:</th>                <td>IRLS</td>       <th>  Log-Likelihood:    </th> <td> -358.52</td>\n",
       "</tr>\n",
       "<tr>\n",
       "  <th>Date:</th>            <td>Thu, 10 Nov 2022</td> <th>  Deviance:          </th> <td>  100.77</td>\n",
       "</tr>\n",
       "<tr>\n",
       "  <th>Time:</th>                <td>21:07:30</td>     <th>  Pearson chi2:      </th>  <td>  125.</td> \n",
       "</tr>\n",
       "<tr>\n",
       "  <th>No. Iterations:</th>          <td>8</td>        <th>  Pseudo R-squ. (CS):</th>  <td>0.2501</td> \n",
       "</tr>\n",
       "<tr>\n",
       "  <th>Covariance Type:</th>     <td>nonrobust</td>    <th>                     </th>     <td> </td>   \n",
       "</tr>\n",
       "</table>\n",
       "<table class=\"simpletable\">\n",
       "<tr>\n",
       "             <td></td>                <th>coef</th>     <th>std err</th>      <th>z</th>      <th>P>|z|</th>  <th>[0.025</th>    <th>0.975]</th>  \n",
       "</tr>\n",
       "<tr>\n",
       "  <th>Intercept</th>               <td>    2.8608</td> <td>    0.155</td> <td>   18.482</td> <td> 0.000</td> <td>    2.557</td> <td>    3.164</td>\n",
       "</tr>\n",
       "<tr>\n",
       "  <th>I(median_income / 1000)</th> <td>   -0.0128</td> <td>    0.002</td> <td>   -5.493</td> <td> 0.000</td> <td>   -0.017</td> <td>   -0.008</td>\n",
       "</tr>\n",
       "</table>"
      ],
      "text/plain": [
       "<class 'statsmodels.iolib.summary.Summary'>\n",
       "\"\"\"\n",
       "                 Generalized Linear Model Regression Results                  \n",
       "==============================================================================\n",
       "Dep. Variable:        incident_number   No. Observations:                  124\n",
       "Model:                            GLM   Df Residuals:                      122\n",
       "Model Family:        NegativeBinomial   Df Model:                            1\n",
       "Link Function:                    Log   Scale:                          1.0000\n",
       "Method:                          IRLS   Log-Likelihood:                -358.52\n",
       "Date:                Thu, 10 Nov 2022   Deviance:                       100.77\n",
       "Time:                        21:07:30   Pearson chi2:                     125.\n",
       "No. Iterations:                     8   Pseudo R-squ. (CS):             0.2501\n",
       "Covariance Type:            nonrobust                                         \n",
       "===========================================================================================\n",
       "                              coef    std err          z      P>|z|      [0.025      0.975]\n",
       "-------------------------------------------------------------------------------------------\n",
       "Intercept                   2.8608      0.155     18.482      0.000       2.557       3.164\n",
       "I(median_income / 1000)    -0.0128      0.002     -5.493      0.000      -0.017      -0.008\n",
       "===========================================================================================\n",
       "\"\"\""
      ]
     },
     "execution_count": 61,
     "metadata": {},
     "output_type": "execute_result"
    }
   ],
   "source": [
    "nb2_training_results.summary()"
   ]
  },
  {
   "cell_type": "markdown",
   "metadata": {},
   "source": [
    "### Try predictions now!"
   ]
  },
  {
   "cell_type": "code",
   "execution_count": 62,
   "metadata": {},
   "outputs": [],
   "source": [
    "nb2_predictions = nb2_training_results.get_prediction(X_test)"
   ]
  },
  {
   "cell_type": "code",
   "execution_count": 63,
   "metadata": {},
   "outputs": [
    {
     "ename": "SyntaxError",
     "evalue": "unmatched ')' (3943083609.py, line 2)",
     "output_type": "error",
     "traceback": [
      "\u001b[0;36m  Cell \u001b[0;32mIn [63], line 2\u001b[0;36m\u001b[0m\n\u001b[0;31m    predictions_summary_frame)\u001b[0m\n\u001b[0m                             ^\u001b[0m\n\u001b[0;31mSyntaxError\u001b[0m\u001b[0;31m:\u001b[0m unmatched ')'\n"
     ]
    }
   ],
   "source": [
    "predictions_summary_frame = nb2_predictions.summary_frame()\n",
    "predictions_summary_frame)"
   ]
  },
  {
   "cell_type": "code",
   "execution_count": null,
   "metadata": {},
   "outputs": [],
   "source": [
    "predicted_counts=predictions_summary_frame['mean']\n",
    "actual_counts = y_test['incident_number']\n",
    "fig = plt.figure()\n",
    "fig.suptitle('Predicted versus actual bicyclist counts on the Brooklyn bridge')\n",
    "predicted, = plt.plot(X_test.index, predicted_counts, 'go-', label='Predicted counts')\n",
    "actual, = plt.plot(X_test.index, actual_counts, 'ro-', label='Actual counts')\n",
    "plt.legend(handles=[predicted, actual])\n",
    "plt.show()"
   ]
  },
  {
   "cell_type": "markdown",
   "metadata": {},
   "source": [
    "Additional Resources for Generalized Linear Models:\n",
    "\n",
    "- DataCamp - Generalized Linear Models in Python (https://learn.datacamp.com/courses/generalized-linear-models-in-python)\n",
    "- Beyond Multiple Linear Regression, Chapter 4 (https://bookdown.org/roback/bookdown-BeyondMLR/ch-poissonreg.html) Warning - the code in this book is all R, but the conceptual explanations are very clear.\n",
    "- This set of notes (https://apwheele.github.io/MathPosts/PoissonReg.html#negative-binomial-when-the-poisson-does-not-fit), which talks about the problem of overdispersion."
   ]
  },
  {
   "cell_type": "code",
   "execution_count": null,
   "metadata": {},
   "outputs": [],
   "source": []
  }
 ],
 "metadata": {
  "kernelspec": {
   "display_name": "Python 3 (ipykernel)",
   "language": "python",
   "name": "python3"
  },
  "language_info": {
   "codemirror_mode": {
    "name": "ipython",
    "version": 3
   },
   "file_extension": ".py",
   "mimetype": "text/x-python",
   "name": "python",
   "nbconvert_exporter": "python",
   "pygments_lexer": "ipython3",
   "version": "3.10.6"
  },
  "vscode": {
   "interpreter": {
    "hash": "8ae6d9166a6324ec8fca68373a3fb6f0a0d010f541edaf8017d36667030d4460"
   }
  }
 },
 "nbformat": 4,
 "nbformat_minor": 2
}
