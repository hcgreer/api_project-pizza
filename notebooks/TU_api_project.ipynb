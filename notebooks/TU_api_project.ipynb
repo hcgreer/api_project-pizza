{
 "cells": [
  {
   "cell_type": "markdown",
   "metadata": {},
   "source": [
    "## Analyzing Aggravated Burglaries in Davidson County"
   ]
  },
  {
   "cell_type": "markdown",
   "metadata": {},
   "source": [
    "### Part 1 - Data Gathering using APIs"
   ]
  },
  {
   "cell_type": "markdown",
   "metadata": {},
   "source": [
    "1. A dataset containing details about Metro Nashville Police Department reported incidents is available at https://data.nashville.gov/Police/Metro-Nashville-Police-Department-Incidents/2u6v-ujjs. Make use of the API to find all aggravated burglary incidents () that were reported during the nine month period from January 1, 2022 through September 30, 2022. (Hint: Check out the API Docs to see how to narrow down the response to just the desired results)."
   ]
  },
  {
   "cell_type": "code",
   "execution_count": 69,
   "metadata": {},
   "outputs": [],
   "source": [
    "import requests\n",
    "import matplotlib.pyplot as plt\n",
    "import pandas as pd\n",
    "import geopandas as gpd\n",
    "import re\n",
    "import json\n",
    "from shapely.geometry import Point\n",
    "import shapely\n",
    "import numpy as np\n",
    "from scipy.stats import poisson\n",
    "from ipywidgets import interact, FloatSlider, IntSlider\n",
    "import statsmodels.api as sm\n",
    "import statsmodels.formula.api as smf"
   ]
  },
  {
   "cell_type": "markdown",
   "metadata": {},
   "source": [
    "Reading the API, I figured out I need the NIBRS code (https://ucr.fbi.gov/nibrs/2011/resources/nibrs-offense-codes).\n",
    "For burglary it is 220 and checking it on the webpage:\n",
    "\n",
    "\n",
    "It looks like this is what I'm looking for and the 'offense description' isn't always consistent. Will have to check which ones have 'aggravated' in there:\n",
    "https://data.nashville.gov/resource/2u6v-ujjs.json?offense_nibrs=220"
   ]
  },
  {
   "cell_type": "markdown",
   "metadata": {},
   "source": [
    "The code below just connects to the API and gets the requested type (burglary/breaking and entering)"
   ]
  },
  {
   "cell_type": "code",
   "execution_count": 2,
   "metadata": {},
   "outputs": [
    {
     "data": {
      "text/plain": [
       "<Response [200]>"
      ]
     },
     "execution_count": 2,
     "metadata": {},
     "output_type": "execute_result"
    }
   ],
   "source": [
    "endpoint = 'https://data.nashville.gov/resource/2u6v-ujjs.json'\n",
    "\n",
    "params = {\n",
    "    '$where' : \"incident_reported between '2022-01-01T00:00:00' and '2022-09-30T23:59:59'\",\n",
    "    'offense_nibrs' : 220,\n",
    "    '$limit' : 5000\n",
    "}\n",
    "\n",
    "response = requests.get(endpoint, params = params)\n",
    "response\n"
   ]
  },
  {
   "cell_type": "code",
   "execution_count": 3,
   "metadata": {},
   "outputs": [
    {
     "data": {
      "text/plain": [
       "3530"
      ]
     },
     "execution_count": 3,
     "metadata": {},
     "output_type": "execute_result"
    }
   ],
   "source": [
    "len(response.json())"
   ]
  },
  {
   "cell_type": "code",
   "execution_count": 4,
   "metadata": {},
   "outputs": [],
   "source": [
    "incidents_df = pd.DataFrame(response.json())"
   ]
  },
  {
   "cell_type": "code",
   "execution_count": 5,
   "metadata": {},
   "outputs": [],
   "source": [
    "# I used this before I figured out how to do it with regex\n",
    "# incidents_df[incidents_df['offense_description'].str.upper().str.find('AGGRAVATED') != -1]"
   ]
  },
  {
   "cell_type": "markdown",
   "metadata": {},
   "source": [
    "the below code is to get all the burglaries that contain at least agg (shorthand for AGGRAVATED). Comparing it to the output with my previous code I found out that the word AGGRAVATED was never actually abbreviated in the file"
   ]
  },
  {
   "cell_type": "code",
   "execution_count": 6,
   "metadata": {},
   "outputs": [],
   "source": [
    "incidents_df = incidents_df[incidents_df['offense_description'].str.match(r'.+[aA][gG][gG].+') == True]"
   ]
  },
  {
   "cell_type": "code",
   "execution_count": 7,
   "metadata": {},
   "outputs": [
    {
     "data": {
      "text/plain": [
       "array(['BURGLARY- AGGRAVATED', 'BURGLARY - AGGRAVATED',\n",
       "       'Burglary - Aggravated - Acting in Concert',\n",
       "       'BURGLARY - ESPECIALLY AGGRAVATED',\n",
       "       'BURGLARY - AGGRAVATED - ACTING IN CONCERT'], dtype=object)"
      ]
     },
     "execution_count": 7,
     "metadata": {},
     "output_type": "execute_result"
    }
   ],
   "source": [
    "incidents_df['offense_description'].unique()"
   ]
  },
  {
   "cell_type": "markdown",
   "metadata": {},
   "source": [
    "2. Using the 2020 American Community Survey API (https://www.census.gov/data/developers/data-sets/acs-5year.html), obtain, for each census tract, the population (B01001_001E in the detailed tables) and the median income (S1901_C01_012E in the subject tables). Hint: Tennessee's FIPS code is 47 and Davidson County's FIPS code is 37."
   ]
  },
  {
   "cell_type": "markdown",
   "metadata": {},
   "source": [
    "First off, loading my key for the census data API!"
   ]
  },
  {
   "cell_type": "code",
   "execution_count": 8,
   "metadata": {},
   "outputs": [],
   "source": [
    "with open('../keys.json') as fi:\n",
    "    credentials = json.load(fi)"
   ]
  },
  {
   "cell_type": "code",
   "execution_count": 9,
   "metadata": {},
   "outputs": [],
   "source": [
    "api_key = credentials['api_key']"
   ]
  },
  {
   "cell_type": "markdown",
   "metadata": {},
   "source": [
    "> note: the documentation for how to construct the API request (for detailed tables) is found here: https://api.census.gov/data/2020/acs/acs5/examples.html"
   ]
  },
  {
   "cell_type": "code",
   "execution_count": 10,
   "metadata": {},
   "outputs": [
    {
     "data": {
      "text/plain": [
       "<Response [200]>"
      ]
     },
     "execution_count": 10,
     "metadata": {},
     "output_type": "execute_result"
    }
   ],
   "source": [
    "endpoint = f'https://api.census.gov/data/2020/acs/acs5?get=NAME,B01001_001E&for=tract:*&in=state:47&in=county:037&key={api_key}'\n",
    "\n",
    "\n",
    "response = requests.get(endpoint)\n",
    "response"
   ]
  },
  {
   "cell_type": "code",
   "execution_count": 11,
   "metadata": {},
   "outputs": [],
   "source": [
    "pop_df = pd.DataFrame(response.json())"
   ]
  },
  {
   "cell_type": "code",
   "execution_count": 12,
   "metadata": {},
   "outputs": [],
   "source": [
    "pop_df = (\n",
    "    pop_df\n",
    "    .rename(columns=pop_df.iloc[0])\n",
    "    .drop(pop_df.index[0])\n",
    "    .rename(columns={'B01001_001E':'population'})\n",
    ")"
   ]
  },
  {
   "cell_type": "markdown",
   "metadata": {},
   "source": [
    "Similar but different, Subject Tables now. "
   ]
  },
  {
   "cell_type": "code",
   "execution_count": 13,
   "metadata": {},
   "outputs": [
    {
     "data": {
      "text/plain": [
       "<Response [200]>"
      ]
     },
     "execution_count": 13,
     "metadata": {},
     "output_type": "execute_result"
    }
   ],
   "source": [
    "endpoint = f'https://api.census.gov/data/2020/acs/acs5/subject?get=NAME,S1901_C01_012E&for=tract:*&in=state:47&in=county:037&key={api_key}'\n",
    "\n",
    "\n",
    "response = requests.get(endpoint)\n",
    "response"
   ]
  },
  {
   "cell_type": "code",
   "execution_count": 14,
   "metadata": {},
   "outputs": [],
   "source": [
    "med_income_df = pd.DataFrame(response.json())"
   ]
  },
  {
   "cell_type": "code",
   "execution_count": 15,
   "metadata": {},
   "outputs": [],
   "source": [
    "med_income_df = (\n",
    "    med_income_df\n",
    "    .rename(columns=med_income_df.iloc[0])\n",
    "    .drop(med_income_df.index[0])\n",
    "    .rename(columns={'S1901_C01_012E':'median_income'})\n",
    ")"
   ]
  },
  {
   "cell_type": "markdown",
   "metadata": {},
   "source": [
    "Did a .head() and .count() command to make sure both tables have the same length (as they should, 174); after the merge below the number was the same (as it of course should)."
   ]
  },
  {
   "cell_type": "code",
   "execution_count": 16,
   "metadata": {},
   "outputs": [],
   "source": [
    "pop_med_income_df = pd.merge(pop_df, med_income_df, \"inner\", on=['NAME', 'state', 'county', 'tract'])"
   ]
  },
  {
   "cell_type": "markdown",
   "metadata": {},
   "source": [
    "### Part 2 - Spatial Joining and Data Merging"
   ]
  },
  {
   "cell_type": "markdown",
   "metadata": {},
   "source": [
    "3. Download the 2020 census tract shapefiles for Tennessee from https://www.census.gov/geographies/mapping-files/time-series/geo/tiger-line-file.2020.html. (The FIPS code for Tennessee is 47). Perform a spatial join to determine the census tract in which each burglary incident occurred."
   ]
  },
  {
   "cell_type": "code",
   "execution_count": 17,
   "metadata": {},
   "outputs": [],
   "source": [
    "tract_geo = gpd.read_file('../data/tl_2020_47_tract/tl_2020_47_tract.shp')"
   ]
  },
  {
   "cell_type": "code",
   "execution_count": 18,
   "metadata": {},
   "outputs": [
    {
     "data": {
      "text/html": [
       "<div>\n",
       "<style scoped>\n",
       "    .dataframe tbody tr th:only-of-type {\n",
       "        vertical-align: middle;\n",
       "    }\n",
       "\n",
       "    .dataframe tbody tr th {\n",
       "        vertical-align: top;\n",
       "    }\n",
       "\n",
       "    .dataframe thead th {\n",
       "        text-align: right;\n",
       "    }\n",
       "</style>\n",
       "<table border=\"1\" class=\"dataframe\">\n",
       "  <thead>\n",
       "    <tr style=\"text-align: right;\">\n",
       "      <th></th>\n",
       "      <th>STATEFP</th>\n",
       "      <th>COUNTYFP</th>\n",
       "      <th>TRACTCE</th>\n",
       "      <th>GEOID</th>\n",
       "      <th>NAME</th>\n",
       "      <th>NAMELSAD</th>\n",
       "      <th>MTFCC</th>\n",
       "      <th>FUNCSTAT</th>\n",
       "      <th>ALAND</th>\n",
       "      <th>AWATER</th>\n",
       "      <th>INTPTLAT</th>\n",
       "      <th>INTPTLON</th>\n",
       "      <th>geometry</th>\n",
       "    </tr>\n",
       "  </thead>\n",
       "  <tbody>\n",
       "    <tr>\n",
       "      <th>0</th>\n",
       "      <td>47</td>\n",
       "      <td>175</td>\n",
       "      <td>925200</td>\n",
       "      <td>47175925200</td>\n",
       "      <td>9252</td>\n",
       "      <td>Census Tract 9252</td>\n",
       "      <td>G5020</td>\n",
       "      <td>S</td>\n",
       "      <td>227429512</td>\n",
       "      <td>1667739</td>\n",
       "      <td>+35.7438100</td>\n",
       "      <td>-085.4940227</td>\n",
       "      <td>POLYGON ((-85.61516 35.76106, -85.61509 35.761...</td>\n",
       "    </tr>\n",
       "    <tr>\n",
       "      <th>1</th>\n",
       "      <td>47</td>\n",
       "      <td>175</td>\n",
       "      <td>925000</td>\n",
       "      <td>47175925000</td>\n",
       "      <td>9250</td>\n",
       "      <td>Census Tract 9250</td>\n",
       "      <td>G5020</td>\n",
       "      <td>S</td>\n",
       "      <td>480712883</td>\n",
       "      <td>1225717</td>\n",
       "      <td>+35.6695378</td>\n",
       "      <td>-085.4220628</td>\n",
       "      <td>POLYGON ((-85.60513 35.70854, -85.60511 35.708...</td>\n",
       "    </tr>\n",
       "  </tbody>\n",
       "</table>\n",
       "</div>"
      ],
      "text/plain": [
       "  STATEFP COUNTYFP TRACTCE        GEOID  NAME           NAMELSAD  MTFCC  \\\n",
       "0      47      175  925200  47175925200  9252  Census Tract 9252  G5020   \n",
       "1      47      175  925000  47175925000  9250  Census Tract 9250  G5020   \n",
       "\n",
       "  FUNCSTAT      ALAND   AWATER     INTPTLAT      INTPTLON  \\\n",
       "0        S  227429512  1667739  +35.7438100  -085.4940227   \n",
       "1        S  480712883  1225717  +35.6695378  -085.4220628   \n",
       "\n",
       "                                            geometry  \n",
       "0  POLYGON ((-85.61516 35.76106, -85.61509 35.761...  \n",
       "1  POLYGON ((-85.60513 35.70854, -85.60511 35.708...  "
      ]
     },
     "execution_count": 18,
     "metadata": {},
     "output_type": "execute_result"
    }
   ],
   "source": [
    "tract_geo.head(2)"
   ]
  },
  {
   "cell_type": "code",
   "execution_count": 19,
   "metadata": {},
   "outputs": [
    {
     "data": {
      "text/plain": [
       "Index(['primary_key', 'incident_number', 'report_type',\n",
       "       'report_type_description', 'incident_status_code',\n",
       "       'incident_status_description', 'investigation_status',\n",
       "       'incident_occurred', 'incident_reported', 'incident_location',\n",
       "       'latitude', 'longitude', 'location_code', 'location_description',\n",
       "       'offense_number', 'offense_nibrs', 'offense_description',\n",
       "       'weapon_primary', 'weapon_description', 'victim_number',\n",
       "       'domestic_related', 'victim_type', 'victim_description',\n",
       "       'victim_gender', 'victim_race', 'victim_ethnicity',\n",
       "       'victim_county_resident', 'mapped_location', 'rpa', 'zone', 'zip_code'],\n",
       "      dtype='object')"
      ]
     },
     "execution_count": 19,
     "metadata": {},
     "output_type": "execute_result"
    }
   ],
   "source": [
    "# incidents_df.info\n",
    "incidents_df.columns"
   ]
  },
  {
   "cell_type": "markdown",
   "metadata": {},
   "source": [
    "Note: at first I tried to use the 'mapped_location' to turn it into a point. However, both doing a list comprehension like this:\n",
    "> x['coordinates'] for x in incidents_df['mapped_location'])\n",
    "\n",
    "or, expanding the dictionary first with \n",
    "> incidents_df.mapped_location.apply(pd.Series)['coordinates']\n",
    "\n",
    "and then trying to unpack the remaining list with a lambda-function\n",
    "> incidents_df['lnglat'].apply(lambda x: x[0])\n",
    "\n",
    "none of it was working. The error was 'float' is not subsciptible. Michael helped me figure out that some rows had NaNs, which is what caused that error. So, the code commented below works."
   ]
  },
  {
   "cell_type": "code",
   "execution_count": 20,
   "metadata": {},
   "outputs": [],
   "source": [
    "# working code, have to do an if statement to skip nans\n",
    "# incidents_df['lat'] = (\n",
    "#     [x['coordinates'][0] \n",
    "#      if x is not np.nan \n",
    "#      else None \n",
    "#      for x in incidents_df['mapped_location']]    \n",
    "#)"
   ]
  },
  {
   "cell_type": "code",
   "execution_count": 21,
   "metadata": {},
   "outputs": [],
   "source": [
    "# note: we decided it was easier to drop duplicate incidents BEFORE doing the spatial merge\n",
    "incidents_df = incidents_df.drop_duplicates(subset='incident_number')"
   ]
  },
  {
   "cell_type": "code",
   "execution_count": 22,
   "metadata": {},
   "outputs": [],
   "source": [
    "incidents_df['geometry'] = gpd.points_from_xy(\n",
    "    incidents_df['longitude'], incidents_df['latitude'])"
   ]
  },
  {
   "cell_type": "code",
   "execution_count": 23,
   "metadata": {},
   "outputs": [],
   "source": [
    "incidents_geo = gpd.GeoDataFrame(incidents_df, crs = tract_geo.crs, geometry = incidents_df['geometry'])"
   ]
  },
  {
   "cell_type": "code",
   "execution_count": 24,
   "metadata": {},
   "outputs": [],
   "source": [
    "# has to be a right join so that we keep all tracts even with no burglaries within\n",
    "incidents_by_tract = gpd.sjoin(incidents_geo, tract_geo, how='right', predicate = 'within')"
   ]
  },
  {
   "cell_type": "code",
   "execution_count": 25,
   "metadata": {},
   "outputs": [
    {
     "name": "stdout",
     "output_type": "stream",
     "text": [
      "<class 'geopandas.geodataframe.GeoDataFrame'>\n",
      "Int64Index: 2793 entries, 0 to 1700\n",
      "Data columns (total 45 columns):\n",
      " #   Column                       Non-Null Count  Dtype   \n",
      "---  ------                       --------------  -----   \n",
      " 0   index_left                   1257 non-null   float64 \n",
      " 1   primary_key                  1257 non-null   object  \n",
      " 2   incident_number              1257 non-null   object  \n",
      " 3   report_type                  1257 non-null   object  \n",
      " 4   report_type_description      1246 non-null   object  \n",
      " 5   incident_status_code         1257 non-null   object  \n",
      " 6   incident_status_description  1257 non-null   object  \n",
      " 7   investigation_status         1257 non-null   object  \n",
      " 8   incident_occurred            1257 non-null   object  \n",
      " 9   incident_reported            1257 non-null   object  \n",
      " 10  incident_location            1250 non-null   object  \n",
      " 11  latitude                     1257 non-null   object  \n",
      " 12  longitude                    1257 non-null   object  \n",
      " 13  location_code                1257 non-null   object  \n",
      " 14  location_description         1257 non-null   object  \n",
      " 15  offense_number               1257 non-null   object  \n",
      " 16  offense_nibrs                1257 non-null   object  \n",
      " 17  offense_description          1257 non-null   object  \n",
      " 18  weapon_primary               1249 non-null   object  \n",
      " 19  weapon_description           1249 non-null   object  \n",
      " 20  victim_number                1257 non-null   object  \n",
      " 21  domestic_related             1257 non-null   object  \n",
      " 22  victim_type                  1257 non-null   object  \n",
      " 23  victim_description           1257 non-null   object  \n",
      " 24  victim_gender                1200 non-null   object  \n",
      " 25  victim_race                  1200 non-null   object  \n",
      " 26  victim_ethnicity             1200 non-null   object  \n",
      " 27  victim_county_resident       1200 non-null   object  \n",
      " 28  mapped_location              1257 non-null   object  \n",
      " 29  rpa                          290 non-null    object  \n",
      " 30  zone                         290 non-null    object  \n",
      " 31  zip_code                     176 non-null    object  \n",
      " 32  STATEFP                      2793 non-null   object  \n",
      " 33  COUNTYFP                     2793 non-null   object  \n",
      " 34  TRACTCE                      2793 non-null   object  \n",
      " 35  GEOID                        2793 non-null   object  \n",
      " 36  NAME                         2793 non-null   object  \n",
      " 37  NAMELSAD                     2793 non-null   object  \n",
      " 38  MTFCC                        2793 non-null   object  \n",
      " 39  FUNCSTAT                     2793 non-null   object  \n",
      " 40  ALAND                        2793 non-null   int64   \n",
      " 41  AWATER                       2793 non-null   int64   \n",
      " 42  INTPTLAT                     2793 non-null   object  \n",
      " 43  INTPTLON                     2793 non-null   object  \n",
      " 44  geometry                     2793 non-null   geometry\n",
      "dtypes: float64(1), geometry(1), int64(2), object(41)\n",
      "memory usage: 1003.7+ KB\n"
     ]
    }
   ],
   "source": [
    "incidents_by_tract.info()"
   ]
  },
  {
   "cell_type": "markdown",
   "metadata": {},
   "source": [
    "4. Aggregate the data by census tract. Warning: each incident can appear multiple times if there are multiple victims, so be sure that you aren't double-counting any incidents. Which census tract had the highest number of burglaries? Which census tract had the highest number of burglaries per 1000 residents? Note: Make sure that you keep all census tracts, not just those that have had a burglary.\n",
    "\n",
    "> highest number of burglaries -> tract # 143; to answer the other question, see point 5. as we need to get the population in"
   ]
  },
  {
   "cell_type": "code",
   "execution_count": 26,
   "metadata": {},
   "outputs": [
    {
     "data": {
      "text/plain": [
       "TRACTCE\n",
       "014300    41\n",
       "016300    37\n",
       "016000    30\n",
       "Name: incident_number, dtype: int64"
      ]
     },
     "execution_count": 26,
     "metadata": {},
     "output_type": "execute_result"
    }
   ],
   "source": [
    "incidents_by_tract.groupby('TRACTCE')['incident_number'].count().nlargest(3)"
   ]
  },
  {
   "cell_type": "code",
   "execution_count": 27,
   "metadata": {},
   "outputs": [
    {
     "data": {
      "text/plain": [
       "NAMELSAD\n",
       "Census Tract 143    41\n",
       "Census Tract 163    37\n",
       "Census Tract 160    30\n",
       "Name: incident_number, dtype: int64"
      ]
     },
     "execution_count": 27,
     "metadata": {},
     "output_type": "execute_result"
    }
   ],
   "source": [
    "# better way to see it than above\n",
    "incidents_by_tract.groupby('NAMELSAD')['incident_number'].count().nlargest(3)"
   ]
  },
  {
   "cell_type": "code",
   "execution_count": 28,
   "metadata": {},
   "outputs": [
    {
     "data": {
      "text/plain": [
       "Index(['index_left', 'primary_key', 'incident_number', 'report_type',\n",
       "       'report_type_description', 'incident_status_code',\n",
       "       'incident_status_description', 'investigation_status',\n",
       "       'incident_occurred', 'incident_reported', 'incident_location',\n",
       "       'latitude', 'longitude', 'location_code', 'location_description',\n",
       "       'offense_number', 'offense_nibrs', 'offense_description',\n",
       "       'weapon_primary', 'weapon_description', 'victim_number',\n",
       "       'domestic_related', 'victim_type', 'victim_description',\n",
       "       'victim_gender', 'victim_race', 'victim_ethnicity',\n",
       "       'victim_county_resident', 'mapped_location', 'rpa', 'zone', 'zip_code',\n",
       "       'STATEFP', 'COUNTYFP', 'TRACTCE', 'GEOID', 'NAME', 'NAMELSAD', 'MTFCC',\n",
       "       'FUNCSTAT', 'ALAND', 'AWATER', 'INTPTLAT', 'INTPTLON', 'geometry'],\n",
       "      dtype='object')"
      ]
     },
     "execution_count": 28,
     "metadata": {},
     "output_type": "execute_result"
    }
   ],
   "source": [
    "incidents_by_tract.columns"
   ]
  },
  {
   "cell_type": "code",
   "execution_count": 29,
   "metadata": {},
   "outputs": [
    {
     "data": {
      "text/plain": [
       "Index(['NAME', 'population', 'state', 'county', 'tract', 'median_income'], dtype='object')"
      ]
     },
     "execution_count": 29,
     "metadata": {},
     "output_type": "execute_result"
    }
   ],
   "source": [
    "pop_med_income_df.columns"
   ]
  },
  {
   "cell_type": "code",
   "execution_count": 30,
   "metadata": {},
   "outputs": [],
   "source": [
    "incidents_by_tract_stats = pd.merge(\n",
    "    pop_med_income_df, incidents_by_tract,\n",
    "    how='inner', left_on='tract', right_on='TRACTCE'\n",
    ")"
   ]
  },
  {
   "cell_type": "markdown",
   "metadata": {},
   "source": [
    "5. Merge in the census data that you gathered in question 2. Remove any rows that have zero population or negative median income values."
   ]
  },
  {
   "cell_type": "code",
   "execution_count": 31,
   "metadata": {},
   "outputs": [],
   "source": [
    "# code below to get rid of zero population and negative med values\n",
    "incidents_by_tract_stats = incidents_by_tract_stats[(incidents_by_tract_stats['population']).astype(int) > 0] \n",
    "incidents_by_tract_stats = incidents_by_tract_stats[(incidents_by_tract_stats['median_income']).astype(float) >= 0]"
   ]
  },
  {
   "cell_type": "code",
   "execution_count": 32,
   "metadata": {},
   "outputs": [],
   "source": [
    "# new column to have number of incidents per each tract\n",
    "incidents_by_tract_stats['n_incidents_tract'] = incidents_by_tract_stats.groupby('TRACTCE')['incident_number'].transform('count').to_frame()"
   ]
  },
  {
   "cell_type": "code",
   "execution_count": 33,
   "metadata": {},
   "outputs": [],
   "source": [
    "# new column to have number of incidents per population\n",
    "incidents_by_tract_stats['n_incidents_tract_pop'] = incidents_by_tract_stats['n_incidents_tract']/(incidents_by_tract_stats['population']).astype(float)"
   ]
  },
  {
   "cell_type": "code",
   "execution_count": 34,
   "metadata": {},
   "outputs": [
    {
     "data": {
      "text/html": [
       "<div>\n",
       "<style scoped>\n",
       "    .dataframe tbody tr th:only-of-type {\n",
       "        vertical-align: middle;\n",
       "    }\n",
       "\n",
       "    .dataframe tbody tr th {\n",
       "        vertical-align: top;\n",
       "    }\n",
       "\n",
       "    .dataframe thead th {\n",
       "        text-align: right;\n",
       "    }\n",
       "</style>\n",
       "<table border=\"1\" class=\"dataframe\">\n",
       "  <thead>\n",
       "    <tr style=\"text-align: right;\">\n",
       "      <th></th>\n",
       "      <th>NAME_x</th>\n",
       "      <th>population</th>\n",
       "      <th>state</th>\n",
       "      <th>county</th>\n",
       "      <th>tract</th>\n",
       "      <th>median_income</th>\n",
       "      <th>index_left</th>\n",
       "      <th>primary_key</th>\n",
       "      <th>incident_number</th>\n",
       "      <th>report_type</th>\n",
       "      <th>...</th>\n",
       "      <th>NAMELSAD</th>\n",
       "      <th>MTFCC</th>\n",
       "      <th>FUNCSTAT</th>\n",
       "      <th>ALAND</th>\n",
       "      <th>AWATER</th>\n",
       "      <th>INTPTLAT</th>\n",
       "      <th>INTPTLON</th>\n",
       "      <th>geometry</th>\n",
       "      <th>n_incidents_tract</th>\n",
       "      <th>n_incidents_tract_pop</th>\n",
       "    </tr>\n",
       "  </thead>\n",
       "  <tbody>\n",
       "    <tr>\n",
       "      <th>670</th>\n",
       "      <td>Census Tract 143, Davidson County, Tennessee</td>\n",
       "      <td>1617</td>\n",
       "      <td>47</td>\n",
       "      <td>037</td>\n",
       "      <td>014300</td>\n",
       "      <td>40425</td>\n",
       "      <td>1968.0</td>\n",
       "      <td>20220333300_11</td>\n",
       "      <td>20220333300</td>\n",
       "      <td>D</td>\n",
       "      <td>...</td>\n",
       "      <td>Census Tract 143</td>\n",
       "      <td>G5020</td>\n",
       "      <td>S</td>\n",
       "      <td>1253575</td>\n",
       "      <td>0</td>\n",
       "      <td>+36.1611635</td>\n",
       "      <td>-086.8156898</td>\n",
       "      <td>POLYGON ((-86.82255 36.15333, -86.82255 36.154...</td>\n",
       "      <td>41</td>\n",
       "      <td>0.025356</td>\n",
       "    </tr>\n",
       "    <tr>\n",
       "      <th>702</th>\n",
       "      <td>Census Tract 143, Davidson County, Tennessee</td>\n",
       "      <td>1617</td>\n",
       "      <td>47</td>\n",
       "      <td>037</td>\n",
       "      <td>014300</td>\n",
       "      <td>40425</td>\n",
       "      <td>1376.0</td>\n",
       "      <td>20220241038_11</td>\n",
       "      <td>20220241038</td>\n",
       "      <td>D</td>\n",
       "      <td>...</td>\n",
       "      <td>Census Tract 143</td>\n",
       "      <td>G5020</td>\n",
       "      <td>S</td>\n",
       "      <td>1253575</td>\n",
       "      <td>0</td>\n",
       "      <td>+36.1611635</td>\n",
       "      <td>-086.8156898</td>\n",
       "      <td>POLYGON ((-86.82255 36.15333, -86.82255 36.154...</td>\n",
       "      <td>41</td>\n",
       "      <td>0.025356</td>\n",
       "    </tr>\n",
       "    <tr>\n",
       "      <th>683</th>\n",
       "      <td>Census Tract 143, Davidson County, Tennessee</td>\n",
       "      <td>1617</td>\n",
       "      <td>47</td>\n",
       "      <td>037</td>\n",
       "      <td>014300</td>\n",
       "      <td>40425</td>\n",
       "      <td>2328.0</td>\n",
       "      <td>20220082577_11</td>\n",
       "      <td>20220082577</td>\n",
       "      <td>D</td>\n",
       "      <td>...</td>\n",
       "      <td>Census Tract 143</td>\n",
       "      <td>G5020</td>\n",
       "      <td>S</td>\n",
       "      <td>1253575</td>\n",
       "      <td>0</td>\n",
       "      <td>+36.1611635</td>\n",
       "      <td>-086.8156898</td>\n",
       "      <td>POLYGON ((-86.82255 36.15333, -86.82255 36.154...</td>\n",
       "      <td>41</td>\n",
       "      <td>0.025356</td>\n",
       "    </tr>\n",
       "    <tr>\n",
       "      <th>684</th>\n",
       "      <td>Census Tract 143, Davidson County, Tennessee</td>\n",
       "      <td>1617</td>\n",
       "      <td>47</td>\n",
       "      <td>037</td>\n",
       "      <td>014300</td>\n",
       "      <td>40425</td>\n",
       "      <td>1808.0</td>\n",
       "      <td>20220265813_13</td>\n",
       "      <td>20220265813</td>\n",
       "      <td>D</td>\n",
       "      <td>...</td>\n",
       "      <td>Census Tract 143</td>\n",
       "      <td>G5020</td>\n",
       "      <td>S</td>\n",
       "      <td>1253575</td>\n",
       "      <td>0</td>\n",
       "      <td>+36.1611635</td>\n",
       "      <td>-086.8156898</td>\n",
       "      <td>POLYGON ((-86.82255 36.15333, -86.82255 36.154...</td>\n",
       "      <td>41</td>\n",
       "      <td>0.025356</td>\n",
       "    </tr>\n",
       "    <tr>\n",
       "      <th>685</th>\n",
       "      <td>Census Tract 143, Davidson County, Tennessee</td>\n",
       "      <td>1617</td>\n",
       "      <td>47</td>\n",
       "      <td>037</td>\n",
       "      <td>014300</td>\n",
       "      <td>40425</td>\n",
       "      <td>3044.0</td>\n",
       "      <td>20220401381_11</td>\n",
       "      <td>20220401381</td>\n",
       "      <td>D</td>\n",
       "      <td>...</td>\n",
       "      <td>Census Tract 143</td>\n",
       "      <td>G5020</td>\n",
       "      <td>S</td>\n",
       "      <td>1253575</td>\n",
       "      <td>0</td>\n",
       "      <td>+36.1611635</td>\n",
       "      <td>-086.8156898</td>\n",
       "      <td>POLYGON ((-86.82255 36.15333, -86.82255 36.154...</td>\n",
       "      <td>41</td>\n",
       "      <td>0.025356</td>\n",
       "    </tr>\n",
       "    <tr>\n",
       "      <th>...</th>\n",
       "      <td>...</td>\n",
       "      <td>...</td>\n",
       "      <td>...</td>\n",
       "      <td>...</td>\n",
       "      <td>...</td>\n",
       "      <td>...</td>\n",
       "      <td>...</td>\n",
       "      <td>...</td>\n",
       "      <td>...</td>\n",
       "      <td>...</td>\n",
       "      <td>...</td>\n",
       "      <td>...</td>\n",
       "      <td>...</td>\n",
       "      <td>...</td>\n",
       "      <td>...</td>\n",
       "      <td>...</td>\n",
       "      <td>...</td>\n",
       "      <td>...</td>\n",
       "      <td>...</td>\n",
       "      <td>...</td>\n",
       "      <td>...</td>\n",
       "    </tr>\n",
       "    <tr>\n",
       "      <th>1166</th>\n",
       "      <td>Census Tract 177.02, Davidson County, Tennessee</td>\n",
       "      <td>5595</td>\n",
       "      <td>47</td>\n",
       "      <td>037</td>\n",
       "      <td>017702</td>\n",
       "      <td>115375</td>\n",
       "      <td>NaN</td>\n",
       "      <td>NaN</td>\n",
       "      <td>NaN</td>\n",
       "      <td>NaN</td>\n",
       "      <td>...</td>\n",
       "      <td>Census Tract 177.02</td>\n",
       "      <td>G5020</td>\n",
       "      <td>S</td>\n",
       "      <td>3296657</td>\n",
       "      <td>0</td>\n",
       "      <td>+36.0995275</td>\n",
       "      <td>-086.7996835</td>\n",
       "      <td>POLYGON ((-86.81446 36.10502, -86.81403 36.105...</td>\n",
       "      <td>0</td>\n",
       "      <td>0.000000</td>\n",
       "    </tr>\n",
       "    <tr>\n",
       "      <th>1171</th>\n",
       "      <td>Census Tract 179.02, Davidson County, Tennessee</td>\n",
       "      <td>4997</td>\n",
       "      <td>47</td>\n",
       "      <td>037</td>\n",
       "      <td>017902</td>\n",
       "      <td>110689</td>\n",
       "      <td>NaN</td>\n",
       "      <td>NaN</td>\n",
       "      <td>NaN</td>\n",
       "      <td>NaN</td>\n",
       "      <td>...</td>\n",
       "      <td>Census Tract 179.02</td>\n",
       "      <td>G5020</td>\n",
       "      <td>S</td>\n",
       "      <td>4111686</td>\n",
       "      <td>0</td>\n",
       "      <td>+36.0961182</td>\n",
       "      <td>-086.8268546</td>\n",
       "      <td>POLYGON ((-86.84859 36.09327, -86.84854 36.093...</td>\n",
       "      <td>0</td>\n",
       "      <td>0.000000</td>\n",
       "    </tr>\n",
       "    <tr>\n",
       "      <th>1091</th>\n",
       "      <td>Census Tract 165, Davidson County, Tennessee</td>\n",
       "      <td>4849</td>\n",
       "      <td>47</td>\n",
       "      <td>037</td>\n",
       "      <td>016500</td>\n",
       "      <td>58065</td>\n",
       "      <td>NaN</td>\n",
       "      <td>NaN</td>\n",
       "      <td>NaN</td>\n",
       "      <td>NaN</td>\n",
       "      <td>...</td>\n",
       "      <td>Census Tract 165</td>\n",
       "      <td>G5020</td>\n",
       "      <td>S</td>\n",
       "      <td>1494439</td>\n",
       "      <td>0</td>\n",
       "      <td>+36.1456055</td>\n",
       "      <td>-086.8050100</td>\n",
       "      <td>POLYGON ((-86.81120 36.15104, -86.81000 36.151...</td>\n",
       "      <td>0</td>\n",
       "      <td>0.000000</td>\n",
       "    </tr>\n",
       "    <tr>\n",
       "      <th>1265</th>\n",
       "      <td>Census Tract 187, Davidson County, Tennessee</td>\n",
       "      <td>3353</td>\n",
       "      <td>47</td>\n",
       "      <td>037</td>\n",
       "      <td>018700</td>\n",
       "      <td>186960</td>\n",
       "      <td>NaN</td>\n",
       "      <td>NaN</td>\n",
       "      <td>NaN</td>\n",
       "      <td>NaN</td>\n",
       "      <td>...</td>\n",
       "      <td>Census Tract 187</td>\n",
       "      <td>G5020</td>\n",
       "      <td>S</td>\n",
       "      <td>19580515</td>\n",
       "      <td>302117</td>\n",
       "      <td>+36.0684470</td>\n",
       "      <td>-086.7931275</td>\n",
       "      <td>POLYGON ((-86.81646 36.03931, -86.81645 36.039...</td>\n",
       "      <td>0</td>\n",
       "      <td>0.000000</td>\n",
       "    </tr>\n",
       "    <tr>\n",
       "      <th>230</th>\n",
       "      <td>Census Tract 103.02, Davidson County, Tennessee</td>\n",
       "      <td>1589</td>\n",
       "      <td>47</td>\n",
       "      <td>037</td>\n",
       "      <td>010302</td>\n",
       "      <td>50341</td>\n",
       "      <td>NaN</td>\n",
       "      <td>NaN</td>\n",
       "      <td>NaN</td>\n",
       "      <td>NaN</td>\n",
       "      <td>...</td>\n",
       "      <td>Census Tract 103.02</td>\n",
       "      <td>G5020</td>\n",
       "      <td>S</td>\n",
       "      <td>23149060</td>\n",
       "      <td>2112569</td>\n",
       "      <td>+35.8293015</td>\n",
       "      <td>-084.0125582</td>\n",
       "      <td>POLYGON ((-84.05244 35.84659, -84.05194 35.848...</td>\n",
       "      <td>0</td>\n",
       "      <td>0.000000</td>\n",
       "    </tr>\n",
       "  </tbody>\n",
       "</table>\n",
       "<p>1300 rows × 53 columns</p>\n",
       "</div>"
      ],
      "text/plain": [
       "                                               NAME_x population state county  \\\n",
       "670      Census Tract 143, Davidson County, Tennessee       1617    47    037   \n",
       "702      Census Tract 143, Davidson County, Tennessee       1617    47    037   \n",
       "683      Census Tract 143, Davidson County, Tennessee       1617    47    037   \n",
       "684      Census Tract 143, Davidson County, Tennessee       1617    47    037   \n",
       "685      Census Tract 143, Davidson County, Tennessee       1617    47    037   \n",
       "...                                               ...        ...   ...    ...   \n",
       "1166  Census Tract 177.02, Davidson County, Tennessee       5595    47    037   \n",
       "1171  Census Tract 179.02, Davidson County, Tennessee       4997    47    037   \n",
       "1091     Census Tract 165, Davidson County, Tennessee       4849    47    037   \n",
       "1265     Census Tract 187, Davidson County, Tennessee       3353    47    037   \n",
       "230   Census Tract 103.02, Davidson County, Tennessee       1589    47    037   \n",
       "\n",
       "       tract median_income  index_left     primary_key incident_number  \\\n",
       "670   014300         40425      1968.0  20220333300_11     20220333300   \n",
       "702   014300         40425      1376.0  20220241038_11     20220241038   \n",
       "683   014300         40425      2328.0  20220082577_11     20220082577   \n",
       "684   014300         40425      1808.0  20220265813_13     20220265813   \n",
       "685   014300         40425      3044.0  20220401381_11     20220401381   \n",
       "...      ...           ...         ...             ...             ...   \n",
       "1166  017702        115375         NaN             NaN             NaN   \n",
       "1171  017902        110689         NaN             NaN             NaN   \n",
       "1091  016500         58065         NaN             NaN             NaN   \n",
       "1265  018700        186960         NaN             NaN             NaN   \n",
       "230   010302         50341         NaN             NaN             NaN   \n",
       "\n",
       "     report_type  ...             NAMELSAD  MTFCC FUNCSTAT     ALAND   AWATER  \\\n",
       "670            D  ...     Census Tract 143  G5020        S   1253575        0   \n",
       "702            D  ...     Census Tract 143  G5020        S   1253575        0   \n",
       "683            D  ...     Census Tract 143  G5020        S   1253575        0   \n",
       "684            D  ...     Census Tract 143  G5020        S   1253575        0   \n",
       "685            D  ...     Census Tract 143  G5020        S   1253575        0   \n",
       "...          ...  ...                  ...    ...      ...       ...      ...   \n",
       "1166         NaN  ...  Census Tract 177.02  G5020        S   3296657        0   \n",
       "1171         NaN  ...  Census Tract 179.02  G5020        S   4111686        0   \n",
       "1091         NaN  ...     Census Tract 165  G5020        S   1494439        0   \n",
       "1265         NaN  ...     Census Tract 187  G5020        S  19580515   302117   \n",
       "230          NaN  ...  Census Tract 103.02  G5020        S  23149060  2112569   \n",
       "\n",
       "         INTPTLAT      INTPTLON  \\\n",
       "670   +36.1611635  -086.8156898   \n",
       "702   +36.1611635  -086.8156898   \n",
       "683   +36.1611635  -086.8156898   \n",
       "684   +36.1611635  -086.8156898   \n",
       "685   +36.1611635  -086.8156898   \n",
       "...           ...           ...   \n",
       "1166  +36.0995275  -086.7996835   \n",
       "1171  +36.0961182  -086.8268546   \n",
       "1091  +36.1456055  -086.8050100   \n",
       "1265  +36.0684470  -086.7931275   \n",
       "230   +35.8293015  -084.0125582   \n",
       "\n",
       "                                               geometry n_incidents_tract  \\\n",
       "670   POLYGON ((-86.82255 36.15333, -86.82255 36.154...                41   \n",
       "702   POLYGON ((-86.82255 36.15333, -86.82255 36.154...                41   \n",
       "683   POLYGON ((-86.82255 36.15333, -86.82255 36.154...                41   \n",
       "684   POLYGON ((-86.82255 36.15333, -86.82255 36.154...                41   \n",
       "685   POLYGON ((-86.82255 36.15333, -86.82255 36.154...                41   \n",
       "...                                                 ...               ...   \n",
       "1166  POLYGON ((-86.81446 36.10502, -86.81403 36.105...                 0   \n",
       "1171  POLYGON ((-86.84859 36.09327, -86.84854 36.093...                 0   \n",
       "1091  POLYGON ((-86.81120 36.15104, -86.81000 36.151...                 0   \n",
       "1265  POLYGON ((-86.81646 36.03931, -86.81645 36.039...                 0   \n",
       "230   POLYGON ((-84.05244 35.84659, -84.05194 35.848...                 0   \n",
       "\n",
       "     n_incidents_tract_pop  \n",
       "670               0.025356  \n",
       "702               0.025356  \n",
       "683               0.025356  \n",
       "684               0.025356  \n",
       "685               0.025356  \n",
       "...                    ...  \n",
       "1166              0.000000  \n",
       "1171              0.000000  \n",
       "1091              0.000000  \n",
       "1265              0.000000  \n",
       "230               0.000000  \n",
       "\n",
       "[1300 rows x 53 columns]"
      ]
     },
     "execution_count": 34,
     "metadata": {},
     "output_type": "execute_result"
    }
   ],
   "source": [
    "incidents_by_tract_stats.sort_values('n_incidents_tract_pop', ascending=False)"
   ]
  },
  {
   "cell_type": "markdown",
   "metadata": {},
   "source": [
    "> same answer as before, the tract with most burglaries per population is 143, the second and third change"
   ]
  },
  {
   "cell_type": "markdown",
   "metadata": {},
   "source": [
    "### Part 3 - Statistical Modeling"
   ]
  },
  {
   "cell_type": "markdown",
   "metadata": {},
   "source": [
    "6. Finally, we'll build some statistical models to see how well we can explain the number of aggravated burglaries using the median income of each census tract. Start with some EDA to look at the relationship between median income and number of aggravated burglaries.\n",
    "\n",
    "> note: as observed by Monica, we don't really need the incident number; and sice this part is just for the statistical modeling, I'll condense the table with just the needed information in the code below."
   ]
  },
  {
   "cell_type": "code",
   "execution_count": 48,
   "metadata": {},
   "outputs": [],
   "source": [
    "tract_aggr_burglary = (\n",
    "    incidents_by_tract_stats\n",
    "    .groupby(['TRACTCE', 'population', 'median_income'])\n",
    "    ['incident_number']\n",
    "    .count()\n",
    "    .to_frame()\n",
    "    .reset_index()\n",
    ")"
   ]
  },
  {
   "cell_type": "code",
   "execution_count": 84,
   "metadata": {},
   "outputs": [],
   "source": [
    "tract_aggr_burglary[['median_income', 'population']] = tract_aggr_burglary[['median_income', 'population']].astype(float)\n",
    "tract_aggr_burglary['burglary_per_1kpop'] = tract_aggr_burglary['incident_number'] * 1000 /tract_aggr_burglary['population']"
   ]
  },
  {
   "cell_type": "code",
   "execution_count": 81,
   "metadata": {},
   "outputs": [
    {
     "data": {
      "image/png": "[encoded data removed]",
      "text/plain": [
       "<Figure size 1000x600 with 1 Axes>"
      ]
     },
     "metadata": {},
     "output_type": "display_data"
    }
   ],
   "source": [
    "tract_aggr_burglary.plot(\n",
    "    kind='scatter',\n",
    "    x='median_income',\n",
    "    y='incident_number',\n",
    "    figsize = (10,6));"
   ]
  },
  {
   "cell_type": "markdown",
   "metadata": {},
   "source": [
    "There appears to be a downward trend. I.e. with higher median income, there appears to be less aggravated burglaries."
   ]
  },
  {
   "cell_type": "code",
   "execution_count": 85,
   "metadata": {},
   "outputs": [
    {
     "data": {
      "text/html": [
       "<div>\n",
       "<style scoped>\n",
       "    .dataframe tbody tr th:only-of-type {\n",
       "        vertical-align: middle;\n",
       "    }\n",
       "\n",
       "    .dataframe tbody tr th {\n",
       "        vertical-align: top;\n",
       "    }\n",
       "\n",
       "    .dataframe thead th {\n",
       "        text-align: right;\n",
       "    }\n",
       "</style>\n",
       "<table border=\"1\" class=\"dataframe\">\n",
       "  <thead>\n",
       "    <tr style=\"text-align: right;\">\n",
       "      <th></th>\n",
       "      <th>group</th>\n",
       "      <th>median_income</th>\n",
       "      <th>incident_number</th>\n",
       "      <th>burglary_per_1kpop</th>\n",
       "    </tr>\n",
       "  </thead>\n",
       "  <tbody>\n",
       "    <tr>\n",
       "      <th>0</th>\n",
       "      <td>(13749.999, 38951.1]</td>\n",
       "      <td>28729.058824</td>\n",
       "      <td>11.882353</td>\n",
       "      <td>4.043676</td>\n",
       "    </tr>\n",
       "    <tr>\n",
       "      <th>1</th>\n",
       "      <td>(38951.1, 46749.6]</td>\n",
       "      <td>43338.411765</td>\n",
       "      <td>13.117647</td>\n",
       "      <td>4.318552</td>\n",
       "    </tr>\n",
       "    <tr>\n",
       "      <th>2</th>\n",
       "      <td>(46749.6, 51028.9]</td>\n",
       "      <td>48479.352941</td>\n",
       "      <td>6.235294</td>\n",
       "      <td>1.364659</td>\n",
       "    </tr>\n",
       "    <tr>\n",
       "      <th>3</th>\n",
       "      <td>(51028.9, 55249.6]</td>\n",
       "      <td>53071.941176</td>\n",
       "      <td>10.411765</td>\n",
       "      <td>3.089588</td>\n",
       "    </tr>\n",
       "    <tr>\n",
       "      <th>4</th>\n",
       "      <td>(55249.6, 60072.0]</td>\n",
       "      <td>57604.647059</td>\n",
       "      <td>8.000000</td>\n",
       "      <td>2.322530</td>\n",
       "    </tr>\n",
       "    <tr>\n",
       "      <th>5</th>\n",
       "      <td>(60072.0, 65577.8]</td>\n",
       "      <td>62374.411765</td>\n",
       "      <td>6.294118</td>\n",
       "      <td>1.697500</td>\n",
       "    </tr>\n",
       "    <tr>\n",
       "      <th>6</th>\n",
       "      <td>(65577.8, 74996.2]</td>\n",
       "      <td>70782.705882</td>\n",
       "      <td>6.058824</td>\n",
       "      <td>1.680802</td>\n",
       "    </tr>\n",
       "    <tr>\n",
       "      <th>7</th>\n",
       "      <td>(74996.2, 85752.0]</td>\n",
       "      <td>80240.058824</td>\n",
       "      <td>4.882353</td>\n",
       "      <td>1.109806</td>\n",
       "    </tr>\n",
       "    <tr>\n",
       "      <th>8</th>\n",
       "      <td>(85752.0, 107205.6]</td>\n",
       "      <td>96926.941176</td>\n",
       "      <td>5.000000</td>\n",
       "      <td>1.104103</td>\n",
       "    </tr>\n",
       "    <tr>\n",
       "      <th>9</th>\n",
       "      <td>(107205.6, 199643.0]</td>\n",
       "      <td>138605.058824</td>\n",
       "      <td>2.000000</td>\n",
       "      <td>0.614862</td>\n",
       "    </tr>\n",
       "  </tbody>\n",
       "</table>\n",
       "</div>"
      ],
      "text/plain": [
       "                  group  median_income  incident_number  burglary_per_1kpop\n",
       "0  (13749.999, 38951.1]   28729.058824        11.882353            4.043676\n",
       "1    (38951.1, 46749.6]   43338.411765        13.117647            4.318552\n",
       "2    (46749.6, 51028.9]   48479.352941         6.235294            1.364659\n",
       "3    (51028.9, 55249.6]   53071.941176        10.411765            3.089588\n",
       "4    (55249.6, 60072.0]   57604.647059         8.000000            2.322530\n",
       "5    (60072.0, 65577.8]   62374.411765         6.294118            1.697500\n",
       "6    (65577.8, 74996.2]   70782.705882         6.058824            1.680802\n",
       "7    (74996.2, 85752.0]   80240.058824         4.882353            1.109806\n",
       "8   (85752.0, 107205.6]   96926.941176         5.000000            1.104103\n",
       "9  (107205.6, 199643.0]  138605.058824         2.000000            0.614862"
      ]
     },
     "execution_count": 85,
     "metadata": {},
     "output_type": "execute_result"
    }
   ],
   "source": [
    "ta_summary = (\n",
    "    tract_aggr_burglary\n",
    "    .assign(group = pd.qcut(tract_aggr_burglary['median_income'],\n",
    "                            q = 10,\n",
    "                           duplicates = 'drop'))\n",
    "    .groupby('group')\n",
    "    [['median_income', 'incident_number', 'burglary_per_1kpop']]\n",
    "    .mean()\n",
    "    .reset_index()\n",
    ")\n",
    "\n",
    "ta_summary"
   ]
  },
  {
   "cell_type": "markdown",
   "metadata": {},
   "source": [
    "Similar trends observed as described above"
   ]
  },
  {
   "cell_type": "markdown",
   "metadata": {},
   "source": [
    "7. Fit a Poisson regression model with target variable the rate of burglaries per census tract and with predictor the median income. Offset using the log of the population so that we are looking at the rate of burglaries per population instead of the number of burglaries. How can you interpret the meaning of the output?"
   ]
  },
  {
   "cell_type": "code",
   "execution_count": 86,
   "metadata": {},
   "outputs": [
    {
     "data": {
      "text/html": [
       "<table class=\"simpletable\">\n",
       "<caption>Generalized Linear Model Regression Results</caption>\n",
       "<tr>\n",
       "  <th>Dep. Variable:</th>    <td>incident_number</td> <th>  No. Observations:  </th>  <td>   170</td> \n",
       "</tr>\n",
       "<tr>\n",
       "  <th>Model:</th>                  <td>GLM</td>       <th>  Df Residuals:      </th>  <td>   168</td> \n",
       "</tr>\n",
       "<tr>\n",
       "  <th>Model Family:</th>         <td>Poisson</td>     <th>  Df Model:          </th>  <td>     1</td> \n",
       "</tr>\n",
       "<tr>\n",
       "  <th>Link Function:</th>          <td>Log</td>       <th>  Scale:             </th> <td>  1.0000</td>\n",
       "</tr>\n",
       "<tr>\n",
       "  <th>Method:</th>                <td>IRLS</td>       <th>  Log-Likelihood:    </th> <td> -694.61</td>\n",
       "</tr>\n",
       "<tr>\n",
       "  <th>Date:</th>            <td>Sun, 23 Oct 2022</td> <th>  Deviance:          </th> <td>  800.18</td>\n",
       "</tr>\n",
       "<tr>\n",
       "  <th>Time:</th>                <td>10:04:01</td>     <th>  Pearson chi2:      </th> <td>1.22e+03</td>\n",
       "</tr>\n",
       "<tr>\n",
       "  <th>No. Iterations:</th>          <td>5</td>        <th>  Pseudo R-squ. (CS):</th>  <td>0.7578</td> \n",
       "</tr>\n",
       "<tr>\n",
       "  <th>Covariance Type:</th>     <td>nonrobust</td>    <th>                     </th>     <td> </td>   \n",
       "</tr>\n",
       "</table>\n",
       "<table class=\"simpletable\">\n",
       "<tr>\n",
       "             <td></td>                <th>coef</th>     <th>std err</th>      <th>z</th>      <th>P>|z|</th>  <th>[0.025</th>    <th>0.975]</th>  \n",
       "</tr>\n",
       "<tr>\n",
       "  <th>Intercept</th>               <td>    1.7565</td> <td>    0.081</td> <td>   21.759</td> <td> 0.000</td> <td>    1.598</td> <td>    1.915</td>\n",
       "</tr>\n",
       "<tr>\n",
       "  <th>I(median_income / 1000)</th> <td>   -0.0187</td> <td>    0.001</td> <td>  -14.029</td> <td> 0.000</td> <td>   -0.021</td> <td>   -0.016</td>\n",
       "</tr>\n",
       "</table>"
      ],
      "text/plain": [
       "<class 'statsmodels.iolib.summary.Summary'>\n",
       "\"\"\"\n",
       "                 Generalized Linear Model Regression Results                  \n",
       "==============================================================================\n",
       "Dep. Variable:        incident_number   No. Observations:                  170\n",
       "Model:                            GLM   Df Residuals:                      168\n",
       "Model Family:                 Poisson   Df Model:                            1\n",
       "Link Function:                    Log   Scale:                          1.0000\n",
       "Method:                          IRLS   Log-Likelihood:                -694.61\n",
       "Date:                Sun, 23 Oct 2022   Deviance:                       800.18\n",
       "Time:                        10:04:01   Pearson chi2:                 1.22e+03\n",
       "No. Iterations:                     5   Pseudo R-squ. (CS):             0.7578\n",
       "Covariance Type:            nonrobust                                         \n",
       "===========================================================================================\n",
       "                              coef    std err          z      P>|z|      [0.025      0.975]\n",
       "-------------------------------------------------------------------------------------------\n",
       "Intercept                   1.7565      0.081     21.759      0.000       1.598       1.915\n",
       "I(median_income / 1000)    -0.0187      0.001    -14.029      0.000      -0.021      -0.016\n",
       "===========================================================================================\n",
       "\"\"\""
      ]
     },
     "execution_count": 86,
     "metadata": {},
     "output_type": "execute_result"
    }
   ],
   "source": [
    "pr_burglary = smf.glm('incident_number ~ I(median_income/1000)',\n",
    "                 data = tract_aggr_burglary,\n",
    "                 offset = np.log(tract_aggr_burglary['population']/1000),\n",
    "                 family = sm.families.Poisson()\n",
    "                 ).fit()\n",
    "\n",
    "pr_burglary.summary()"
   ]
  },
  {
   "cell_type": "markdown",
   "metadata": {},
   "source": [
    "After offsetting for population, and deciding to divide the median income by 1000 (otherwise the factor of changing by a single $ is miniscule) the model estimates that:\n",
    "\n",
    "$$\\text{average number of burglaries} = e^{-5.1513 -0.0187(\\text{median income in thousands of UDS)}}$$\n",
    "\n",
    "In other words, for each $1000 change in median income, the average number of burglaries is predicted to decrease by exp(-0.0187), aka a factor of 0.98147"
   ]
  },
  {
   "cell_type": "code",
   "execution_count": 87,
   "metadata": {},
   "outputs": [
    {
     "data": {
      "text/html": [
       "<div>\n",
       "<style scoped>\n",
       "    .dataframe tbody tr th:only-of-type {\n",
       "        vertical-align: middle;\n",
       "    }\n",
       "\n",
       "    .dataframe tbody tr th {\n",
       "        vertical-align: top;\n",
       "    }\n",
       "\n",
       "    .dataframe thead th {\n",
       "        text-align: right;\n",
       "    }\n",
       "</style>\n",
       "<table border=\"1\" class=\"dataframe\">\n",
       "  <thead>\n",
       "    <tr style=\"text-align: right;\">\n",
       "      <th></th>\n",
       "      <th>group</th>\n",
       "      <th>median_income</th>\n",
       "      <th>incident_number</th>\n",
       "      <th>burglary_per_1kpop</th>\n",
       "      <th>fitted</th>\n",
       "    </tr>\n",
       "  </thead>\n",
       "  <tbody>\n",
       "    <tr>\n",
       "      <th>0</th>\n",
       "      <td>(13749.999, 38951.1]</td>\n",
       "      <td>28729.058824</td>\n",
       "      <td>11.882353</td>\n",
       "      <td>4.043676</td>\n",
       "      <td>3.388112</td>\n",
       "    </tr>\n",
       "    <tr>\n",
       "      <th>1</th>\n",
       "      <td>(38951.1, 46749.6]</td>\n",
       "      <td>43338.411765</td>\n",
       "      <td>13.117647</td>\n",
       "      <td>4.318552</td>\n",
       "      <td>2.579510</td>\n",
       "    </tr>\n",
       "    <tr>\n",
       "      <th>2</th>\n",
       "      <td>(46749.6, 51028.9]</td>\n",
       "      <td>48479.352941</td>\n",
       "      <td>6.235294</td>\n",
       "      <td>1.364659</td>\n",
       "      <td>2.343505</td>\n",
       "    </tr>\n",
       "    <tr>\n",
       "      <th>3</th>\n",
       "      <td>(51028.9, 55249.6]</td>\n",
       "      <td>53071.941176</td>\n",
       "      <td>10.411765</td>\n",
       "      <td>3.089588</td>\n",
       "      <td>2.150994</td>\n",
       "    </tr>\n",
       "    <tr>\n",
       "      <th>4</th>\n",
       "      <td>(55249.6, 60072.0]</td>\n",
       "      <td>57604.647059</td>\n",
       "      <td>8.000000</td>\n",
       "      <td>2.322530</td>\n",
       "      <td>1.976505</td>\n",
       "    </tr>\n",
       "    <tr>\n",
       "      <th>5</th>\n",
       "      <td>(60072.0, 65577.8]</td>\n",
       "      <td>62374.411765</td>\n",
       "      <td>6.294118</td>\n",
       "      <td>1.697500</td>\n",
       "      <td>1.808153</td>\n",
       "    </tr>\n",
       "    <tr>\n",
       "      <th>6</th>\n",
       "      <td>(65577.8, 74996.2]</td>\n",
       "      <td>70782.705882</td>\n",
       "      <td>6.058824</td>\n",
       "      <td>1.680802</td>\n",
       "      <td>1.545537</td>\n",
       "    </tr>\n",
       "    <tr>\n",
       "      <th>7</th>\n",
       "      <td>(74996.2, 85752.0]</td>\n",
       "      <td>80240.058824</td>\n",
       "      <td>4.882353</td>\n",
       "      <td>1.109806</td>\n",
       "      <td>1.295448</td>\n",
       "    </tr>\n",
       "    <tr>\n",
       "      <th>8</th>\n",
       "      <td>(85752.0, 107205.6]</td>\n",
       "      <td>96926.941176</td>\n",
       "      <td>5.000000</td>\n",
       "      <td>1.104103</td>\n",
       "      <td>0.948767</td>\n",
       "    </tr>\n",
       "    <tr>\n",
       "      <th>9</th>\n",
       "      <td>(107205.6, 199643.0]</td>\n",
       "      <td>138605.058824</td>\n",
       "      <td>2.000000</td>\n",
       "      <td>0.614862</td>\n",
       "      <td>0.435838</td>\n",
       "    </tr>\n",
       "  </tbody>\n",
       "</table>\n",
       "</div>"
      ],
      "text/plain": [
       "                  group  median_income  incident_number  burglary_per_1kpop  \\\n",
       "0  (13749.999, 38951.1]   28729.058824        11.882353            4.043676   \n",
       "1    (38951.1, 46749.6]   43338.411765        13.117647            4.318552   \n",
       "2    (46749.6, 51028.9]   48479.352941         6.235294            1.364659   \n",
       "3    (51028.9, 55249.6]   53071.941176        10.411765            3.089588   \n",
       "4    (55249.6, 60072.0]   57604.647059         8.000000            2.322530   \n",
       "5    (60072.0, 65577.8]   62374.411765         6.294118            1.697500   \n",
       "6    (65577.8, 74996.2]   70782.705882         6.058824            1.680802   \n",
       "7    (74996.2, 85752.0]   80240.058824         4.882353            1.109806   \n",
       "8   (85752.0, 107205.6]   96926.941176         5.000000            1.104103   \n",
       "9  (107205.6, 199643.0]  138605.058824         2.000000            0.614862   \n",
       "\n",
       "     fitted  \n",
       "0  3.388112  \n",
       "1  2.579510  \n",
       "2  2.343505  \n",
       "3  2.150994  \n",
       "4  1.976505  \n",
       "5  1.808153  \n",
       "6  1.545537  \n",
       "7  1.295448  \n",
       "8  0.948767  \n",
       "9  0.435838  "
      ]
     },
     "execution_count": 87,
     "metadata": {},
     "output_type": "execute_result"
    }
   ],
   "source": [
    "# using the summary from before (the one with quantiles) to check how good the fit does\n",
    "ta_summary['fitted'] = pr_burglary.predict(ta_summary)\n",
    "\n",
    "ta_summary"
   ]
  },
  {
   "cell_type": "markdown",
   "metadata": {},
   "source": [
    "**note**: the fitted quantity has to be compared with burglary per capita (also same for the graph below). That is because we **offset** for population in our fit!!!"
   ]
  },
  {
   "cell_type": "code",
   "execution_count": 88,
   "metadata": {},
   "outputs": [
    {
     "data": {
      "image/png": "[encoded data removed]",
      "text/plain": [
       "<Figure size 1000x600 with 1 Axes>"
      ]
     },
     "metadata": {},
     "output_type": "display_data"
    }
   ],
   "source": [
    "fit_df = pd.DataFrame({\n",
    "    'median_income': np.linspace(start = tract_aggr_burglary['median_income'].min(),\n",
    "                      stop = tract_aggr_burglary['median_income'].max(),\n",
    "                      num = 150)\n",
    "})\n",
    "fit_df['fitted'] = pr_burglary.predict(fit_df)\n",
    "\n",
    "ax = tract_aggr_burglary.plot(x = 'median_income', y = 'burglary_per_1kpop', kind = 'scatter', figsize = (10,6))\n",
    "fit_df.plot(x = 'median_income', y = 'fitted', color = 'black', ax = ax);"
   ]
  },
  {
   "cell_type": "markdown",
   "metadata": {},
   "source": [
    "After checking the probabilities in the graph below, I decided to adjust the parameters and have the probabilities be estimated per 1000 people (otherwise the graph is far too squished towards 0)."
   ]
  },
  {
   "cell_type": "code",
   "execution_count": 90,
   "metadata": {},
   "outputs": [
    {
     "data": {
      "application/vnd.jupyter.widget-view+json": {
       "model_id": "c186c3fe80eb4cb3b71c3cbbd00b8d3e",
       "version_major": 2,
       "version_minor": 0
      },
      "text/plain": [
       "interactive(children=(IntSlider(value=100000, description='median_income', max=199643, min=13750), Output()), …"
      ]
     },
     "metadata": {},
     "output_type": "display_data"
    }
   ],
   "source": [
    "@interact(median_income = IntSlider(value = 100000, min = tract_aggr_burglary['median_income'].min(), max = tract_aggr_burglary['median_income'].max()))\n",
    "def fit_plot(median_income):\n",
    "    \n",
    "    mu = np.exp(pr_burglary.params['Intercept'] + \\\n",
    "                (median_income/1000) * pr_burglary.params['I(median_income / 1000)'])\n",
    "    x = np.arange(start = 0, stop = 20, step = 1)\n",
    "    y = poisson.pmf(x, mu = mu)\n",
    "\n",
    "    plt.figure(figsize = (10,5))\n",
    "    plt.bar(x, y, edgecolor = 'black')\n",
    "    plt.xticks(x)\n",
    "    plt.xlabel('Number of Burglaries per 1000 people')\n",
    "    plt.ylabel('Probability')\n",
    "    plt.title(f'Estimated Distribution of Number of Burglaries per 1000 people\\nmedian_income = {median_income} \\n$\\mu$={round(mu, 3)}');"
   ]
  },
  {
   "cell_type": "markdown",
   "metadata": {},
   "source": [
    "8. Bonus: Try out a negative binomial model. To get started with a negative binomial model, you can check out this tutorial (https://timeseriesreasoning.com/contents/negative-binomial-regression-model/). How does this model compare to the Poisson model?"
   ]
  },
  {
   "cell_type": "markdown",
   "metadata": {},
   "source": [
    "Additional Resources for Generalized Linear Models:\n",
    "\n",
    "- DataCamp - Generalized Linear Models in Python (https://learn.datacamp.com/courses/generalized-linear-models-in-python)\n",
    "- Beyond Multiple Linear Regression, Chapter 4 (https://bookdown.org/roback/bookdown-BeyondMLR/ch-poissonreg.html) Warning - the code in this book is all R, but the conceptual explanations are very clear.\n",
    "- This set of notes (https://apwheele.github.io/MathPosts/PoissonReg.html#negative-binomial-when-the-poisson-does-not-fit), which talks about the problem of overdispersion."
   ]
  },
  {
   "cell_type": "code",
   "execution_count": null,
   "metadata": {},
   "outputs": [],
   "source": []
  }
 ],
 "metadata": {
  "kernelspec": {
   "display_name": "Python 3 (ipykernel)",
   "language": "python",
   "name": "python3"
  },
  "language_info": {
   "codemirror_mode": {
    "name": "ipython",
    "version": 3
   },
   "file_extension": ".py",
   "mimetype": "text/x-python",
   "name": "python",
   "nbconvert_exporter": "python",
   "pygments_lexer": "ipython3",
   "version": "3.10.6"
  },
  "vscode": {
   "interpreter": {
    "hash": "8ae6d9166a6324ec8fca68373a3fb6f0a0d010f541edaf8017d36667030d4460"
   }
  }
 },
 "nbformat": 4,
 "nbformat_minor": 2
}
