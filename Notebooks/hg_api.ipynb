{
 "cells": [
  {
   "cell_type": "code",
   "execution_count": 19,
   "id": "f8d2a9df",
   "metadata": {},
   "outputs": [],
   "source": [
    "import requests\n",
    "import pandas as pd\n",
    "import json\n",
    "import pandas as pd\n",
    "import numpy as np\n",
    "import geopandas as gpd\n",
    "import matplotlib.pyplot as plt\n",
    "import statsmodels.api as sm\n",
    "import statsmodels.formula.api as smf"
   ]
  },
  {
   "cell_type": "code",
   "execution_count": 2,
   "id": "cf6f4e5a",
   "metadata": {},
   "outputs": [],
   "source": [
    "endpoint = \"https://data.nashville.gov/resource/2u6v-ujjs.json\"\n",
    "\n",
    "params = {\n",
    "    '$where' : \"incident_reported between '2022-01-01T00:00:00' and '2022-09-30T23:59:59'\",\n",
    "    'offense_nibrs' : '220',\n",
    "    #'$q' : 'BURGLARY- AGGRAVATED'\n",
    "    '$limit' : 5000\n",
    "}\n",
    "\n",
    "response = requests.get(endpoint, params = params)\n",
    "\n",
    "res = response.json()\n",
    "all_burglary = pd.DataFrame(res)"
   ]
  },
  {
   "cell_type": "code",
   "execution_count": 3,
   "id": "9b849302",
   "metadata": {},
   "outputs": [],
   "source": [
    "agg_burglary = all_burglary.loc[\n",
    "    all_burglary['offense_description'].str.upper().str.contains('AGGRAVATED')\n",
    "].copy()\n",
    "\n",
    "agg_burglary['geometry'] = gpd.points_from_xy(\n",
    "    agg_burglary['longitude'], \n",
    "    agg_burglary['latitude']\n",
    ")"
   ]
  },
  {
   "cell_type": "code",
   "execution_count": 4,
   "id": "59ba2c23",
   "metadata": {},
   "outputs": [],
   "source": [
    "with open('..\\census_api.json') as fi:\n",
    "    credentials = json.load(fi)\n",
    "    \n",
    "api_key = credentials['api_key']"
   ]
  },
  {
   "cell_type": "code",
   "execution_count": 5,
   "id": "bc0fc304",
   "metadata": {},
   "outputs": [],
   "source": [
    "endpoint = f'https://api.census.gov/data/2020/acs/acs5?get=NAME,B01001_001E&for=tract:*&in=state:47&in=county:037&key={api_key}'\n",
    "\n",
    "response = requests.get(endpoint)\n",
    "\n",
    "res = response.json()\n",
    "population = pd.DataFrame(res)"
   ]
  },
  {
   "cell_type": "code",
   "execution_count": 6,
   "id": "0c26f81a",
   "metadata": {},
   "outputs": [],
   "source": [
    "population = (population\n",
    " .rename(columns = population.iloc[0])\n",
    " .drop(population.index[0])\n",
    " .rename(columns={'NAME' : 'name', 'B01001_001E' : 'population'})\n",
    ")"
   ]
  },
  {
   "cell_type": "code",
   "execution_count": 7,
   "id": "b1375b62",
   "metadata": {},
   "outputs": [],
   "source": [
    "endpoint = f'https://api.census.gov/data/2020/acs/acs5/subject?get=NAME,S1901_C01_012E&for=tract:*&in=state:47&in=county:037&key={api_key}'\n",
    "\n",
    "response = requests.get(endpoint)\n",
    "\n",
    "res = response.json()\n",
    "median_income = pd.DataFrame(res)"
   ]
  },
  {
   "cell_type": "code",
   "execution_count": 8,
   "id": "89736673",
   "metadata": {},
   "outputs": [],
   "source": [
    "median_income = (median_income\n",
    " .rename(columns = median_income.iloc[0])\n",
    " .drop(median_income.index[0])\n",
    " .rename(columns = {'NAME' : 'name', 'S1901_C01_012E' : 'median_income'})\n",
    ")"
   ]
  },
  {
   "cell_type": "code",
   "execution_count": 9,
   "id": "c3e667c7",
   "metadata": {},
   "outputs": [],
   "source": [
    "census_tract = gpd.read_file('../data/tl_2020_47_tract/tl_2020_47_tract.shp')"
   ]
  },
  {
   "cell_type": "code",
   "execution_count": 10,
   "id": "348c512f",
   "metadata": {},
   "outputs": [],
   "source": [
    "agg_burg_geo = gpd.GeoDataFrame(\n",
    "    agg_burglary, \n",
    "    crs = census_tract.crs, \n",
    "    geometry = agg_burglary['geometry']\n",
    ").drop_duplicates(subset = ['incident_number'])"
   ]
  },
  {
   "cell_type": "code",
   "execution_count": 11,
   "id": "b572f794",
   "metadata": {},
   "outputs": [],
   "source": [
    "agg_burg_tract = (\n",
    "    gpd.sjoin(agg_burg_geo, census_tract, how = 'right', predicate = 'within')\n",
    ").rename(columns = {'TRACTCE' : 'tract'})\n",
    "\n",
    "agg_burg_tract = agg_burg_tract.merge(\n",
    "    population, \n",
    "    how = 'inner', \n",
    "    on = 'tract'\n",
    ")\n",
    "\n",
    "agg_burg_tract = agg_burg_tract.merge(\n",
    "    median_income, \n",
    "    how = 'inner', \n",
    "    on = 'tract'\n",
    ")\n",
    "\n",
    "agg_burg_tract['median_income'] = agg_burg_tract['median_income'].astype('float')\n",
    "\n",
    "agg_burg_tract = agg_burg_tract.loc[\n",
    "   agg_burg_tract['median_income'] >= 0\n",
    "]\n",
    "\n",
    "agg_burg_tract['population'] = agg_burg_tract['population'].astype('int')\n",
    "\n",
    "agg_burg_tract = agg_burg_tract.loc[\n",
    "    agg_burg_tract['population'] != 0\n",
    "]"
   ]
  },
  {
   "cell_type": "markdown",
   "id": "ed59fb34",
   "metadata": {},
   "source": [
    "Which census tract had the highest number of burglaries?"
   ]
  },
  {
   "cell_type": "code",
   "execution_count": 12,
   "id": "dcc4dc64",
   "metadata": {},
   "outputs": [
    {
     "data": {
      "text/plain": [
       "014300    41\n",
       "Name: tract, dtype: int64"
      ]
     },
     "execution_count": 12,
     "metadata": {},
     "output_type": "execute_result"
    }
   ],
   "source": [
    "agg_burg_tract['tract'].value_counts().nlargest(1)"
   ]
  },
  {
   "cell_type": "markdown",
   "id": "b3a7726a",
   "metadata": {},
   "source": [
    "Which census tract had the highest number of burglaries per 1000 residents?"
   ]
  },
  {
   "cell_type": "code",
   "execution_count": 27,
   "id": "0924e0c6",
   "metadata": {
    "scrolled": false
   },
   "outputs": [
    {
     "data": {
      "text/html": [
       "<div>\n",
       "<style scoped>\n",
       "    .dataframe tbody tr th:only-of-type {\n",
       "        vertical-align: middle;\n",
       "    }\n",
       "\n",
       "    .dataframe tbody tr th {\n",
       "        vertical-align: top;\n",
       "    }\n",
       "\n",
       "    .dataframe thead th {\n",
       "        text-align: right;\n",
       "    }\n",
       "</style>\n",
       "<table border=\"1\" class=\"dataframe\">\n",
       "  <thead>\n",
       "    <tr style=\"text-align: right;\">\n",
       "      <th></th>\n",
       "      <th>tract</th>\n",
       "      <th>population</th>\n",
       "      <th>median_income</th>\n",
       "      <th>incident_number</th>\n",
       "      <th>rate</th>\n",
       "    </tr>\n",
       "  </thead>\n",
       "  <tbody>\n",
       "    <tr>\n",
       "      <th>53</th>\n",
       "      <td>014300</td>\n",
       "      <td>1617</td>\n",
       "      <td>40425.0</td>\n",
       "      <td>41</td>\n",
       "      <td>25.355597</td>\n",
       "    </tr>\n",
       "    <tr>\n",
       "      <th>96</th>\n",
       "      <td>016300</td>\n",
       "      <td>2689</td>\n",
       "      <td>54886.0</td>\n",
       "      <td>37</td>\n",
       "      <td>13.759762</td>\n",
       "    </tr>\n",
       "    <tr>\n",
       "      <th>52</th>\n",
       "      <td>014200</td>\n",
       "      <td>2072</td>\n",
       "      <td>24237.0</td>\n",
       "      <td>27</td>\n",
       "      <td>13.030888</td>\n",
       "    </tr>\n",
       "    <tr>\n",
       "      <th>93</th>\n",
       "      <td>016000</td>\n",
       "      <td>2570</td>\n",
       "      <td>21868.0</td>\n",
       "      <td>30</td>\n",
       "      <td>11.673152</td>\n",
       "    </tr>\n",
       "    <tr>\n",
       "      <th>36</th>\n",
       "      <td>012600</td>\n",
       "      <td>2152</td>\n",
       "      <td>56667.0</td>\n",
       "      <td>21</td>\n",
       "      <td>9.758364</td>\n",
       "    </tr>\n",
       "  </tbody>\n",
       "</table>\n",
       "</div>"
      ],
      "text/plain": [
       "     tract  population  median_income  incident_number       rate\n",
       "53  014300        1617        40425.0               41  25.355597\n",
       "96  016300        2689        54886.0               37  13.759762\n",
       "52  014200        2072        24237.0               27  13.030888\n",
       "93  016000        2570        21868.0               30  11.673152\n",
       "36  012600        2152        56667.0               21   9.758364"
      ]
     },
     "execution_count": 27,
     "metadata": {},
     "output_type": "execute_result"
    }
   ],
   "source": [
    "rate = (agg_burg_tract\n",
    "        .groupby(['tract', 'population','median_income'])\n",
    "        .count()\n",
    "        .reset_index()[['tract', 'population', 'median_income', 'incident_number']]\n",
    "        #.apply(lambda rate: rate['population'] /1000)\n",
    "       )\n",
    "\n",
    "rate['rate'] = rate['incident_number'] / (rate['population'] / 1000)\n",
    "\n",
    "rate.sort_values(\n",
    "    by = 'rate', \n",
    "    ascending = False\n",
    ").head()"
   ]
  },
  {
   "cell_type": "code",
   "execution_count": 14,
   "id": "e6f66d9d",
   "metadata": {},
   "outputs": [],
   "source": [
    "med_income_burg = (agg_burg_tract.groupby(['tract', 'median_income'])\n",
    "    .count()\n",
    " .reset_index()[['tract', 'median_income', 'incident_number']]\n",
    ")"
   ]
  },
  {
   "cell_type": "code",
   "execution_count": 15,
   "id": "1e7e307a",
   "metadata": {},
   "outputs": [
    {
     "data": {
      "image/png": "[encoded data removed]",
      "text/plain": [
       "<Figure size 640x480 with 1 Axes>"
      ]
     },
     "metadata": {},
     "output_type": "display_data"
    }
   ],
   "source": [
    "plt.scatter(data = med_income_burg,\n",
    "        x = 'median_income',\n",
    "        y = 'incident_number');"
   ]
  },
  {
   "cell_type": "code",
   "execution_count": 16,
   "id": "5c5aa012",
   "metadata": {},
   "outputs": [
    {
     "data": {
      "text/html": [
       "<div>\n",
       "<style scoped>\n",
       "    .dataframe tbody tr th:only-of-type {\n",
       "        vertical-align: middle;\n",
       "    }\n",
       "\n",
       "    .dataframe tbody tr th {\n",
       "        vertical-align: top;\n",
       "    }\n",
       "\n",
       "    .dataframe thead th {\n",
       "        text-align: right;\n",
       "    }\n",
       "</style>\n",
       "<table border=\"1\" class=\"dataframe\">\n",
       "  <thead>\n",
       "    <tr style=\"text-align: right;\">\n",
       "      <th></th>\n",
       "      <th>group</th>\n",
       "      <th>median_income</th>\n",
       "      <th>incident_number</th>\n",
       "    </tr>\n",
       "  </thead>\n",
       "  <tbody>\n",
       "    <tr>\n",
       "      <th>0</th>\n",
       "      <td>(13749.999, 38951.1]</td>\n",
       "      <td>28729.058824</td>\n",
       "      <td>11.882353</td>\n",
       "    </tr>\n",
       "    <tr>\n",
       "      <th>1</th>\n",
       "      <td>(38951.1, 46749.6]</td>\n",
       "      <td>43338.411765</td>\n",
       "      <td>13.117647</td>\n",
       "    </tr>\n",
       "    <tr>\n",
       "      <th>2</th>\n",
       "      <td>(46749.6, 51028.9]</td>\n",
       "      <td>48479.352941</td>\n",
       "      <td>6.294118</td>\n",
       "    </tr>\n",
       "    <tr>\n",
       "      <th>3</th>\n",
       "      <td>(51028.9, 55249.6]</td>\n",
       "      <td>53071.941176</td>\n",
       "      <td>10.411765</td>\n",
       "    </tr>\n",
       "    <tr>\n",
       "      <th>4</th>\n",
       "      <td>(55249.6, 60072.0]</td>\n",
       "      <td>57604.647059</td>\n",
       "      <td>8.000000</td>\n",
       "    </tr>\n",
       "    <tr>\n",
       "      <th>5</th>\n",
       "      <td>(60072.0, 65577.8]</td>\n",
       "      <td>62374.411765</td>\n",
       "      <td>6.294118</td>\n",
       "    </tr>\n",
       "    <tr>\n",
       "      <th>6</th>\n",
       "      <td>(65577.8, 74996.2]</td>\n",
       "      <td>70782.705882</td>\n",
       "      <td>6.058824</td>\n",
       "    </tr>\n",
       "    <tr>\n",
       "      <th>7</th>\n",
       "      <td>(74996.2, 85752.0]</td>\n",
       "      <td>80240.058824</td>\n",
       "      <td>4.941176</td>\n",
       "    </tr>\n",
       "    <tr>\n",
       "      <th>8</th>\n",
       "      <td>(85752.0, 107205.6]</td>\n",
       "      <td>96926.941176</td>\n",
       "      <td>4.941176</td>\n",
       "    </tr>\n",
       "    <tr>\n",
       "      <th>9</th>\n",
       "      <td>(107205.6, 199643.0]</td>\n",
       "      <td>138605.058824</td>\n",
       "      <td>2.000000</td>\n",
       "    </tr>\n",
       "  </tbody>\n",
       "</table>\n",
       "</div>"
      ],
      "text/plain": [
       "                  group  median_income  incident_number\n",
       "0  (13749.999, 38951.1]   28729.058824        11.882353\n",
       "1    (38951.1, 46749.6]   43338.411765        13.117647\n",
       "2    (46749.6, 51028.9]   48479.352941         6.294118\n",
       "3    (51028.9, 55249.6]   53071.941176        10.411765\n",
       "4    (55249.6, 60072.0]   57604.647059         8.000000\n",
       "5    (60072.0, 65577.8]   62374.411765         6.294118\n",
       "6    (65577.8, 74996.2]   70782.705882         6.058824\n",
       "7    (74996.2, 85752.0]   80240.058824         4.941176\n",
       "8   (85752.0, 107205.6]   96926.941176         4.941176\n",
       "9  (107205.6, 199643.0]  138605.058824         2.000000"
      ]
     },
     "execution_count": 16,
     "metadata": {},
     "output_type": "execute_result"
    }
   ],
   "source": [
    "summary = (\n",
    "    med_income_burg\n",
    "    .assign(group = pd.qcut(med_income_burg['median_income'],\n",
    "                            q = 10,\n",
    "                           duplicates = 'drop'))\n",
    "    .groupby('group')\n",
    "    [['median_income', 'incident_number']]\n",
    "    .mean()\n",
    "    .reset_index()\n",
    ")\n",
    "\n",
    "\n",
    "summary"
   ]
  },
  {
   "cell_type": "code",
   "execution_count": 22,
   "id": "5e825426",
   "metadata": {},
   "outputs": [
    {
     "data": {
      "text/html": [
       "<table class=\"simpletable\">\n",
       "<caption>Generalized Linear Model Regression Results</caption>\n",
       "<tr>\n",
       "  <th>Dep. Variable:</th>         <td>rate</td>       <th>  No. Observations:  </th>  <td>   170</td> \n",
       "</tr>\n",
       "<tr>\n",
       "  <th>Model:</th>                  <td>GLM</td>       <th>  Df Residuals:      </th>  <td>   168</td> \n",
       "</tr>\n",
       "<tr>\n",
       "  <th>Model Family:</th>         <td>Poisson</td>     <th>  Df Model:          </th>  <td>     1</td> \n",
       "</tr>\n",
       "<tr>\n",
       "  <th>Link Function:</th>          <td>Log</td>       <th>  Scale:             </th> <td>  1.0000</td>\n",
       "</tr>\n",
       "<tr>\n",
       "  <th>Method:</th>                <td>IRLS</td>       <th>  Log-Likelihood:    </th> <td> -406.31</td>\n",
       "</tr>\n",
       "<tr>\n",
       "  <th>Date:</th>            <td>Thu, 10 Nov 2022</td> <th>  Deviance:          </th> <td>  424.36</td>\n",
       "</tr>\n",
       "<tr>\n",
       "  <th>Time:</th>                <td>19:02:04</td>     <th>  Pearson chi2:      </th> <td>1.02e+03</td>\n",
       "</tr>\n",
       "<tr>\n",
       "  <th>No. Iterations:</th>          <td>5</td>        <th>  Pseudo R-squ. (CS):</th>  <td>0.4463</td> \n",
       "</tr>\n",
       "<tr>\n",
       "  <th>Covariance Type:</th>     <td>nonrobust</td>    <th>                     </th>     <td> </td>   \n",
       "</tr>\n",
       "</table>\n",
       "<table class=\"simpletable\">\n",
       "<tr>\n",
       "        <td></td>           <th>coef</th>     <th>std err</th>      <th>z</th>      <th>P>|z|</th>  <th>[0.025</th>    <th>0.975]</th>  \n",
       "</tr>\n",
       "<tr>\n",
       "  <th>Intercept</th>     <td>   -6.1272</td> <td>    0.152</td> <td>  -40.194</td> <td> 0.000</td> <td>   -6.426</td> <td>   -5.828</td>\n",
       "</tr>\n",
       "<tr>\n",
       "  <th>median_income</th> <td>-2.341e-05</td> <td> 2.61e-06</td> <td>   -8.967</td> <td> 0.000</td> <td>-2.85e-05</td> <td>-1.83e-05</td>\n",
       "</tr>\n",
       "</table>"
      ],
      "text/plain": [
       "<class 'statsmodels.iolib.summary.Summary'>\n",
       "\"\"\"\n",
       "                 Generalized Linear Model Regression Results                  \n",
       "==============================================================================\n",
       "Dep. Variable:                   rate   No. Observations:                  170\n",
       "Model:                            GLM   Df Residuals:                      168\n",
       "Model Family:                 Poisson   Df Model:                            1\n",
       "Link Function:                    Log   Scale:                          1.0000\n",
       "Method:                          IRLS   Log-Likelihood:                -406.31\n",
       "Date:                Thu, 10 Nov 2022   Deviance:                       424.36\n",
       "Time:                        19:02:04   Pearson chi2:                 1.02e+03\n",
       "No. Iterations:                     5   Pseudo R-squ. (CS):             0.4463\n",
       "Covariance Type:            nonrobust                                         \n",
       "=================================================================================\n",
       "                    coef    std err          z      P>|z|      [0.025      0.975]\n",
       "---------------------------------------------------------------------------------\n",
       "Intercept        -6.1272      0.152    -40.194      0.000      -6.426      -5.828\n",
       "median_income -2.341e-05   2.61e-06     -8.967      0.000   -2.85e-05   -1.83e-05\n",
       "=================================================================================\n",
       "\"\"\""
      ]
     },
     "execution_count": 22,
     "metadata": {},
     "output_type": "execute_result"
    }
   ],
   "source": [
    "pr_rate_income = smf.glm('rate ~ median_income',\n",
    "                 data = rate,\n",
    "                 offset = np.log(rate['population']),\n",
    "                 family = sm.families.Poisson()\n",
    "                 ).fit()\n",
    "\n",
    "pr_rate_income.summary()"
   ]
  },
  {
   "cell_type": "code",
   "execution_count": null,
   "id": "e4a07a6c",
   "metadata": {},
   "outputs": [],
   "source": []
  }
 ],
 "metadata": {
  "kernelspec": {
   "display_name": "Python 3 (ipykernel)",
   "language": "python",
   "name": "python3"
  },
  "language_info": {
   "codemirror_mode": {
    "name": "ipython",
    "version": 3
   },
   "file_extension": ".py",
   "mimetype": "text/x-python",
   "name": "python",
   "nbconvert_exporter": "python",
   "pygments_lexer": "ipython3",
   "version": "3.9.12"
  }
 },
 "nbformat": 4,
 "nbformat_minor": 5
}
