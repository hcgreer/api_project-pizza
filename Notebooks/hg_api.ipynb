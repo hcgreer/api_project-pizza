{
 "cells": [
  {
   "cell_type": "code",
   "execution_count": 1,
   "id": "f8d2a9df",
   "metadata": {},
   "outputs": [],
   "source": [
    "import requests\n",
    "import pandas as pd\n",
    "import json\n",
    "import pandas as pd\n",
    "import geopandas as gpd\n",
    "import matplotlib.pyplot as plt"
   ]
  },
  {
   "cell_type": "code",
   "execution_count": 2,
   "id": "cf6f4e5a",
   "metadata": {},
   "outputs": [],
   "source": [
    "endpoint = \"https://data.nashville.gov/resource/2u6v-ujjs.json\"\n",
    "\n",
    "params = {\n",
    "    '$where' : \"incident_reported between '2022-01-01T00:00:00' and '2022-09-30T23:59:59'\",\n",
    "    'offense_nibrs' : '220',\n",
    "    '$limit' : 5000\n",
    "}\n",
    "\n",
    "response = requests.get(endpoint, params = params)\n",
    "\n",
    "res = response.json()\n",
    "all_burglary = pd.DataFrame(res)"
   ]
  },
  {
   "cell_type": "code",
   "execution_count": 3,
   "id": "9b849302",
   "metadata": {},
   "outputs": [],
   "source": [
    "agg_burglary = all_burglary.loc[\n",
    "    all_burglary['offense_description'].str.upper().str.contains('AGGRAVATED')\n",
    "].copy()\n",
    "\n",
    "agg_burglary['geometry'] = gpd.points_from_xy(\n",
    "    agg_burglary['longitude'], \n",
    "    agg_burglary['latitude']\n",
    ")"
   ]
  },
  {
   "cell_type": "code",
   "execution_count": 4,
   "id": "59ba2c23",
   "metadata": {},
   "outputs": [],
   "source": [
    "with open('..\\census_api.json') as fi:\n",
    "    credentials = json.load(fi)\n",
    "    \n",
    "api_key = credentials['api_key']"
   ]
  },
  {
   "cell_type": "code",
   "execution_count": 5,
   "id": "bc0fc304",
   "metadata": {},
   "outputs": [],
   "source": [
    "endpoint = f'https://api.census.gov/data/2020/acs/acs5?get=NAME,B01001_001E&for=tract:*&in=state:47&in=county:037&key={api_key}'\n",
    "\n",
    "response = requests.get(endpoint)\n",
    "\n",
    "res = response.json()\n",
    "population = pd.DataFrame(res)"
   ]
  },
  {
   "cell_type": "code",
   "execution_count": 6,
   "id": "0c26f81a",
   "metadata": {},
   "outputs": [],
   "source": [
    "population = (population\n",
    " .rename(columns = population.iloc[0])\n",
    " .drop(population.index[0])\n",
    " .rename(columns={'NAME' : 'name', 'B01001_001E' : 'population'})\n",
    ")"
   ]
  },
  {
   "cell_type": "code",
   "execution_count": 7,
   "id": "b1375b62",
   "metadata": {},
   "outputs": [],
   "source": [
    "endpoint = f'https://api.census.gov/data/2020/acs/acs5/subject?get=NAME,S1901_C01_012E&for=tract:*&in=state:47&in=county:037&key={api_key}'\n",
    "\n",
    "response = requests.get(endpoint)\n",
    "\n",
    "res = response.json()\n",
    "median_income = pd.DataFrame(res)"
   ]
  },
  {
   "cell_type": "code",
   "execution_count": 8,
   "id": "89736673",
   "metadata": {},
   "outputs": [],
   "source": [
    "median_income = (median_income\n",
    " .rename(columns = median_income.iloc[0])\n",
    " .drop(median_income.index[0])\n",
    " .rename(columns = {'NAME' : 'name', 'S1901_C01_012E' : 'median_income'})\n",
    ")"
   ]
  },
  {
   "cell_type": "code",
   "execution_count": 9,
   "id": "c3e667c7",
   "metadata": {},
   "outputs": [],
   "source": [
    "census_tract = gpd.read_file('../data/tl_2020_47_tract/tl_2020_47_tract.shp')"
   ]
  },
  {
   "cell_type": "code",
   "execution_count": 10,
   "id": "348c512f",
   "metadata": {},
   "outputs": [],
   "source": [
    "agg_burg_geo = gpd.GeoDataFrame(\n",
    "    agg_burglary, \n",
    "    crs = census_tract.crs, \n",
    "    geometry = agg_burglary['geometry']\n",
    ").drop_duplicates(subset = ['incident_number'])"
   ]
  },
  {
   "cell_type": "code",
   "execution_count": 11,
   "id": "b572f794",
   "metadata": {},
   "outputs": [],
   "source": [
    "agg_burg_tract = (\n",
    "    gpd.sjoin(agg_burg_geo, census_tract, how = 'right', predicate = 'within')\n",
    ").rename(columns = {'TRACTCE' : 'tract'})\n",
    "\n",
    "agg_burg_tract = agg_burg_tract.merge(\n",
    "    population, \n",
    "    how = 'inner', \n",
    "    on = 'tract'\n",
    ")\n",
    "\n",
    "agg_burg_tract = agg_burg_tract.merge(\n",
    "    median_income, \n",
    "    how = 'inner', \n",
    "    on = 'tract'\n",
    ")\n",
    "\n",
    "agg_burg_tract['median_income'] = agg_burg_tract['median_income'].astype('float')\n",
    "\n",
    "agg_burg_tract = agg_burg_tract.loc[\n",
    "   agg_burg_tract['median_income'] >= 0\n",
    "]\n",
    "\n",
    "agg_burg_tract['population'] = agg_burg_tract['population'].astype('int')\n",
    "\n",
    "agg_burg_tract = agg_burg_tract.loc[\n",
    "    agg_burg_tract['population'] != 0\n",
    "]"
   ]
  },
  {
   "cell_type": "markdown",
   "id": "ed59fb34",
   "metadata": {},
   "source": [
    "Which census tract had the highest number of burglaries?"
   ]
  },
  {
   "cell_type": "code",
   "execution_count": 12,
   "id": "dcc4dc64",
   "metadata": {},
   "outputs": [
    {
     "data": {
      "text/plain": [
       "014300    41\n",
       "Name: tract, dtype: int64"
      ]
     },
     "execution_count": 12,
     "metadata": {},
     "output_type": "execute_result"
    }
   ],
   "source": [
    "agg_burg_tract['tract'].value_counts().nlargest(1)"
   ]
  },
  {
   "cell_type": "markdown",
   "id": "b3a7726a",
   "metadata": {},
   "source": [
    "Which census tract had the highest number of burglaries per 1000 residents?"
   ]
  },
  {
   "cell_type": "code",
   "execution_count": 13,
   "id": "0924e0c6",
   "metadata": {
    "scrolled": false
   },
   "outputs": [
    {
     "data": {
      "text/html": [
       "<div>\n",
       "<style scoped>\n",
       "    .dataframe tbody tr th:only-of-type {\n",
       "        vertical-align: middle;\n",
       "    }\n",
       "\n",
       "    .dataframe tbody tr th {\n",
       "        vertical-align: top;\n",
       "    }\n",
       "\n",
       "    .dataframe thead th {\n",
       "        text-align: right;\n",
       "    }\n",
       "</style>\n",
       "<table border=\"1\" class=\"dataframe\">\n",
       "  <thead>\n",
       "    <tr style=\"text-align: right;\">\n",
       "      <th></th>\n",
       "      <th>tract</th>\n",
       "      <th>population</th>\n",
       "      <th>incident_number</th>\n",
       "      <th>rate</th>\n",
       "    </tr>\n",
       "  </thead>\n",
       "  <tbody>\n",
       "    <tr>\n",
       "      <th>53</th>\n",
       "      <td>014300</td>\n",
       "      <td>1617</td>\n",
       "      <td>41</td>\n",
       "      <td>25.355597</td>\n",
       "    </tr>\n",
       "  </tbody>\n",
       "</table>\n",
       "</div>"
      ],
      "text/plain": [
       "     tract  population  incident_number       rate\n",
       "53  014300        1617               41  25.355597"
      ]
     },
     "execution_count": 13,
     "metadata": {},
     "output_type": "execute_result"
    }
   ],
   "source": [
    "rate = (agg_burg_tract\n",
    "        .groupby(['tract', 'population'])\n",
    "        .count()\n",
    "        .reset_index()[['tract', 'population', 'incident_number']]\n",
    "        #.apply(lambda rate: rate['population'] /1000)\n",
    "       )\n",
    "\n",
    "rate['rate'] = rate['incident_number'] / (rate['population'] / 1000)\n",
    "\n",
    "rate.sort_values(\n",
    "    by = 'rate', \n",
    "    ascending = False\n",
    ").head(1)"
   ]
  },
  {
   "cell_type": "code",
   "execution_count": 15,
   "id": "63f58ee7",
   "metadata": {},
   "outputs": [],
   "source": [
    "rate = (agg_burg_tract\n",
    "        .groupby(['tract', 'population'])\n",
    "        .count()\n",
    "        .reset_index()[['tract', 'population', 'incident_number']]\n",
    "        .apply(lambda rate: rate['population'] /1000, axis = 1)\n",
    "       )"
   ]
  },
  {
   "cell_type": "code",
   "execution_count": null,
   "id": "1a5be65b",
   "metadata": {},
   "outputs": [],
   "source": []
  }
 ],
 "metadata": {
  "kernelspec": {
   "display_name": "Python 3 (ipykernel)",
   "language": "python",
   "name": "python3"
  },
  "language_info": {
   "codemirror_mode": {
    "name": "ipython",
    "version": 3
   },
   "file_extension": ".py",
   "mimetype": "text/x-python",
   "name": "python",
   "nbconvert_exporter": "python",
   "pygments_lexer": "ipython3",
   "version": "3.10.6"
  }
 },
 "nbformat": 4,
 "nbformat_minor": 5
}
